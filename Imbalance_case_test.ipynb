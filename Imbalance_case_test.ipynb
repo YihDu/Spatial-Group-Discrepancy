{
 "cells": [
  {
   "cell_type": "code",
   "execution_count": 1,
   "metadata": {},
   "outputs": [],
   "source": [
    "from main import main\n",
    "import pandas as pd \n",
    "from sklearn.metrics import adjusted_rand_score , silhouette_score , normalized_mutual_info_score ,fowlkes_mallows_score\n",
    "import matplotlib.pyplot as plt\n",
    "%load_ext autoreload\n",
    "%autoreload 2\n",
    "\n",
    "def evaluate_metrics(coordinate_file_truth , coordinate_file_pred , apply_gene_similarity = False , apply_AD_weight = False):\n",
    "    truth_data = pd.read_csv(coordinate_file_truth)\n",
    "    pred_data = pd.read_csv(coordinate_file_pred)\n",
    "    \n",
    "    ARI = adjusted_rand_score(truth_data['group'] , pred_data['group'])\n",
    "    NMI = normalized_mutual_info_score(truth_data['group'], pred_data['group'])\n",
    "    Silhouette = silhouette_score(pred_data[['x', 'y']], pred_data['group'])\n",
    "    FMI = fowlkes_mallows_score(truth_data['group'], pred_data['group'])\n",
    "    SGD = main(coordinate_file_truth , coordinate_file_pred ,apply_gene_similarity = apply_gene_similarity , apply_AD_weight=apply_AD_weight)\n",
    "    \n",
    "    return ARI, NMI, Silhouette, FMI, SGD\n"
   ]
  },
  {
   "cell_type": "markdown",
   "metadata": {},
   "source": [
    "## 100个 Ratio A/B 从0.1到0.9"
   ]
  },
  {
   "cell_type": "code",
   "execution_count": 2,
   "metadata": {},
   "outputs": [
    {
     "ename": "FileNotFoundError",
     "evalue": "[Errno 2] No such file or directory: 'data/simulate/Case3(imbalance)/ratio(20240310)/0.1_truth_SpatialData.csv'",
     "output_type": "error",
     "traceback": [
      "\u001b[1;31m---------------------------------------------------------------------------\u001b[0m",
      "\u001b[1;31mFileNotFoundError\u001b[0m                         Traceback (most recent call last)",
      "Cell \u001b[1;32mIn[2], line 6\u001b[0m\n\u001b[0;32m      4\u001b[0m coordinate_file_truth \u001b[38;5;241m=\u001b[39m \u001b[38;5;124mf\u001b[39m\u001b[38;5;124m\"\u001b[39m\u001b[38;5;124mdata/simulate/Case3(imbalance)/ratio(20240310)/0.\u001b[39m\u001b[38;5;132;01m{\u001b[39;00mi\u001b[38;5;132;01m}\u001b[39;00m\u001b[38;5;124m_truth_SpatialData.csv\u001b[39m\u001b[38;5;124m\"\u001b[39m\n\u001b[0;32m      5\u001b[0m coordinate_file_pred \u001b[38;5;241m=\u001b[39m \u001b[38;5;124mf\u001b[39m\u001b[38;5;124m\"\u001b[39m\u001b[38;5;124mdata/simulate/Case3(imbalance)/ratio(20240310)/0.\u001b[39m\u001b[38;5;132;01m{\u001b[39;00mi\u001b[38;5;132;01m}\u001b[39;00m\u001b[38;5;124m_SpatialData.csv\u001b[39m\u001b[38;5;124m\"\u001b[39m\n\u001b[1;32m----> 6\u001b[0m ARI, NMI, Silhouette, FMI, SGD \u001b[38;5;241m=\u001b[39m evaluate_metrics(coordinate_file_truth, coordinate_file_pred, apply_gene_similarity\u001b[38;5;241m=\u001b[39m\u001b[38;5;28;01mFalse\u001b[39;00m, apply_AD_weight\u001b[38;5;241m=\u001b[39m\u001b[38;5;28;01mFalse\u001b[39;00m)\n\u001b[0;32m      7\u001b[0m results[\u001b[38;5;124m'\u001b[39m\u001b[38;5;124mARI\u001b[39m\u001b[38;5;124m'\u001b[39m]\u001b[38;5;241m.\u001b[39mappend(ARI)\n\u001b[0;32m      8\u001b[0m results[\u001b[38;5;124m'\u001b[39m\u001b[38;5;124mNMI\u001b[39m\u001b[38;5;124m'\u001b[39m]\u001b[38;5;241m.\u001b[39mappend(NMI)\n",
      "Cell \u001b[1;32mIn[1], line 9\u001b[0m, in \u001b[0;36mevaluate_metrics\u001b[1;34m(coordinate_file_truth, coordinate_file_pred, apply_gene_similarity, apply_AD_weight)\u001b[0m\n\u001b[0;32m      8\u001b[0m \u001b[38;5;28;01mdef\u001b[39;00m \u001b[38;5;21mevaluate_metrics\u001b[39m(coordinate_file_truth , coordinate_file_pred , apply_gene_similarity \u001b[38;5;241m=\u001b[39m \u001b[38;5;28;01mFalse\u001b[39;00m , apply_AD_weight \u001b[38;5;241m=\u001b[39m \u001b[38;5;28;01mFalse\u001b[39;00m):\n\u001b[1;32m----> 9\u001b[0m     truth_data \u001b[38;5;241m=\u001b[39m pd\u001b[38;5;241m.\u001b[39mread_csv(coordinate_file_truth)\n\u001b[0;32m     10\u001b[0m     pred_data \u001b[38;5;241m=\u001b[39m pd\u001b[38;5;241m.\u001b[39mread_csv(coordinate_file_pred)\n\u001b[0;32m     12\u001b[0m     ARI \u001b[38;5;241m=\u001b[39m adjusted_rand_score(truth_data[\u001b[38;5;124m'\u001b[39m\u001b[38;5;124mgroup\u001b[39m\u001b[38;5;124m'\u001b[39m] , pred_data[\u001b[38;5;124m'\u001b[39m\u001b[38;5;124mgroup\u001b[39m\u001b[38;5;124m'\u001b[39m])\n",
      "File \u001b[1;32mc:\\Users\\11146\\.conda\\envs\\Pytorch\\Lib\\site-packages\\pandas\\io\\parsers\\readers.py:948\u001b[0m, in \u001b[0;36mread_csv\u001b[1;34m(filepath_or_buffer, sep, delimiter, header, names, index_col, usecols, dtype, engine, converters, true_values, false_values, skipinitialspace, skiprows, skipfooter, nrows, na_values, keep_default_na, na_filter, verbose, skip_blank_lines, parse_dates, infer_datetime_format, keep_date_col, date_parser, date_format, dayfirst, cache_dates, iterator, chunksize, compression, thousands, decimal, lineterminator, quotechar, quoting, doublequote, escapechar, comment, encoding, encoding_errors, dialect, on_bad_lines, delim_whitespace, low_memory, memory_map, float_precision, storage_options, dtype_backend)\u001b[0m\n\u001b[0;32m    935\u001b[0m kwds_defaults \u001b[38;5;241m=\u001b[39m _refine_defaults_read(\n\u001b[0;32m    936\u001b[0m     dialect,\n\u001b[0;32m    937\u001b[0m     delimiter,\n\u001b[1;32m   (...)\u001b[0m\n\u001b[0;32m    944\u001b[0m     dtype_backend\u001b[38;5;241m=\u001b[39mdtype_backend,\n\u001b[0;32m    945\u001b[0m )\n\u001b[0;32m    946\u001b[0m kwds\u001b[38;5;241m.\u001b[39mupdate(kwds_defaults)\n\u001b[1;32m--> 948\u001b[0m \u001b[38;5;28;01mreturn\u001b[39;00m _read(filepath_or_buffer, kwds)\n",
      "File \u001b[1;32mc:\\Users\\11146\\.conda\\envs\\Pytorch\\Lib\\site-packages\\pandas\\io\\parsers\\readers.py:611\u001b[0m, in \u001b[0;36m_read\u001b[1;34m(filepath_or_buffer, kwds)\u001b[0m\n\u001b[0;32m    608\u001b[0m _validate_names(kwds\u001b[38;5;241m.\u001b[39mget(\u001b[38;5;124m\"\u001b[39m\u001b[38;5;124mnames\u001b[39m\u001b[38;5;124m\"\u001b[39m, \u001b[38;5;28;01mNone\u001b[39;00m))\n\u001b[0;32m    610\u001b[0m \u001b[38;5;66;03m# Create the parser.\u001b[39;00m\n\u001b[1;32m--> 611\u001b[0m parser \u001b[38;5;241m=\u001b[39m TextFileReader(filepath_or_buffer, \u001b[38;5;241m*\u001b[39m\u001b[38;5;241m*\u001b[39mkwds)\n\u001b[0;32m    613\u001b[0m \u001b[38;5;28;01mif\u001b[39;00m chunksize \u001b[38;5;129;01mor\u001b[39;00m iterator:\n\u001b[0;32m    614\u001b[0m     \u001b[38;5;28;01mreturn\u001b[39;00m parser\n",
      "File \u001b[1;32mc:\\Users\\11146\\.conda\\envs\\Pytorch\\Lib\\site-packages\\pandas\\io\\parsers\\readers.py:1448\u001b[0m, in \u001b[0;36mTextFileReader.__init__\u001b[1;34m(self, f, engine, **kwds)\u001b[0m\n\u001b[0;32m   1445\u001b[0m     \u001b[38;5;28mself\u001b[39m\u001b[38;5;241m.\u001b[39moptions[\u001b[38;5;124m\"\u001b[39m\u001b[38;5;124mhas_index_names\u001b[39m\u001b[38;5;124m\"\u001b[39m] \u001b[38;5;241m=\u001b[39m kwds[\u001b[38;5;124m\"\u001b[39m\u001b[38;5;124mhas_index_names\u001b[39m\u001b[38;5;124m\"\u001b[39m]\n\u001b[0;32m   1447\u001b[0m \u001b[38;5;28mself\u001b[39m\u001b[38;5;241m.\u001b[39mhandles: IOHandles \u001b[38;5;241m|\u001b[39m \u001b[38;5;28;01mNone\u001b[39;00m \u001b[38;5;241m=\u001b[39m \u001b[38;5;28;01mNone\u001b[39;00m\n\u001b[1;32m-> 1448\u001b[0m \u001b[38;5;28mself\u001b[39m\u001b[38;5;241m.\u001b[39m_engine \u001b[38;5;241m=\u001b[39m \u001b[38;5;28mself\u001b[39m\u001b[38;5;241m.\u001b[39m_make_engine(f, \u001b[38;5;28mself\u001b[39m\u001b[38;5;241m.\u001b[39mengine)\n",
      "File \u001b[1;32mc:\\Users\\11146\\.conda\\envs\\Pytorch\\Lib\\site-packages\\pandas\\io\\parsers\\readers.py:1705\u001b[0m, in \u001b[0;36mTextFileReader._make_engine\u001b[1;34m(self, f, engine)\u001b[0m\n\u001b[0;32m   1703\u001b[0m     \u001b[38;5;28;01mif\u001b[39;00m \u001b[38;5;124m\"\u001b[39m\u001b[38;5;124mb\u001b[39m\u001b[38;5;124m\"\u001b[39m \u001b[38;5;129;01mnot\u001b[39;00m \u001b[38;5;129;01min\u001b[39;00m mode:\n\u001b[0;32m   1704\u001b[0m         mode \u001b[38;5;241m+\u001b[39m\u001b[38;5;241m=\u001b[39m \u001b[38;5;124m\"\u001b[39m\u001b[38;5;124mb\u001b[39m\u001b[38;5;124m\"\u001b[39m\n\u001b[1;32m-> 1705\u001b[0m \u001b[38;5;28mself\u001b[39m\u001b[38;5;241m.\u001b[39mhandles \u001b[38;5;241m=\u001b[39m get_handle(\n\u001b[0;32m   1706\u001b[0m     f,\n\u001b[0;32m   1707\u001b[0m     mode,\n\u001b[0;32m   1708\u001b[0m     encoding\u001b[38;5;241m=\u001b[39m\u001b[38;5;28mself\u001b[39m\u001b[38;5;241m.\u001b[39moptions\u001b[38;5;241m.\u001b[39mget(\u001b[38;5;124m\"\u001b[39m\u001b[38;5;124mencoding\u001b[39m\u001b[38;5;124m\"\u001b[39m, \u001b[38;5;28;01mNone\u001b[39;00m),\n\u001b[0;32m   1709\u001b[0m     compression\u001b[38;5;241m=\u001b[39m\u001b[38;5;28mself\u001b[39m\u001b[38;5;241m.\u001b[39moptions\u001b[38;5;241m.\u001b[39mget(\u001b[38;5;124m\"\u001b[39m\u001b[38;5;124mcompression\u001b[39m\u001b[38;5;124m\"\u001b[39m, \u001b[38;5;28;01mNone\u001b[39;00m),\n\u001b[0;32m   1710\u001b[0m     memory_map\u001b[38;5;241m=\u001b[39m\u001b[38;5;28mself\u001b[39m\u001b[38;5;241m.\u001b[39moptions\u001b[38;5;241m.\u001b[39mget(\u001b[38;5;124m\"\u001b[39m\u001b[38;5;124mmemory_map\u001b[39m\u001b[38;5;124m\"\u001b[39m, \u001b[38;5;28;01mFalse\u001b[39;00m),\n\u001b[0;32m   1711\u001b[0m     is_text\u001b[38;5;241m=\u001b[39mis_text,\n\u001b[0;32m   1712\u001b[0m     errors\u001b[38;5;241m=\u001b[39m\u001b[38;5;28mself\u001b[39m\u001b[38;5;241m.\u001b[39moptions\u001b[38;5;241m.\u001b[39mget(\u001b[38;5;124m\"\u001b[39m\u001b[38;5;124mencoding_errors\u001b[39m\u001b[38;5;124m\"\u001b[39m, \u001b[38;5;124m\"\u001b[39m\u001b[38;5;124mstrict\u001b[39m\u001b[38;5;124m\"\u001b[39m),\n\u001b[0;32m   1713\u001b[0m     storage_options\u001b[38;5;241m=\u001b[39m\u001b[38;5;28mself\u001b[39m\u001b[38;5;241m.\u001b[39moptions\u001b[38;5;241m.\u001b[39mget(\u001b[38;5;124m\"\u001b[39m\u001b[38;5;124mstorage_options\u001b[39m\u001b[38;5;124m\"\u001b[39m, \u001b[38;5;28;01mNone\u001b[39;00m),\n\u001b[0;32m   1714\u001b[0m )\n\u001b[0;32m   1715\u001b[0m \u001b[38;5;28;01massert\u001b[39;00m \u001b[38;5;28mself\u001b[39m\u001b[38;5;241m.\u001b[39mhandles \u001b[38;5;129;01mis\u001b[39;00m \u001b[38;5;129;01mnot\u001b[39;00m \u001b[38;5;28;01mNone\u001b[39;00m\n\u001b[0;32m   1716\u001b[0m f \u001b[38;5;241m=\u001b[39m \u001b[38;5;28mself\u001b[39m\u001b[38;5;241m.\u001b[39mhandles\u001b[38;5;241m.\u001b[39mhandle\n",
      "File \u001b[1;32mc:\\Users\\11146\\.conda\\envs\\Pytorch\\Lib\\site-packages\\pandas\\io\\common.py:863\u001b[0m, in \u001b[0;36mget_handle\u001b[1;34m(path_or_buf, mode, encoding, compression, memory_map, is_text, errors, storage_options)\u001b[0m\n\u001b[0;32m    858\u001b[0m \u001b[38;5;28;01melif\u001b[39;00m \u001b[38;5;28misinstance\u001b[39m(handle, \u001b[38;5;28mstr\u001b[39m):\n\u001b[0;32m    859\u001b[0m     \u001b[38;5;66;03m# Check whether the filename is to be opened in binary mode.\u001b[39;00m\n\u001b[0;32m    860\u001b[0m     \u001b[38;5;66;03m# Binary mode does not support 'encoding' and 'newline'.\u001b[39;00m\n\u001b[0;32m    861\u001b[0m     \u001b[38;5;28;01mif\u001b[39;00m ioargs\u001b[38;5;241m.\u001b[39mencoding \u001b[38;5;129;01mand\u001b[39;00m \u001b[38;5;124m\"\u001b[39m\u001b[38;5;124mb\u001b[39m\u001b[38;5;124m\"\u001b[39m \u001b[38;5;129;01mnot\u001b[39;00m \u001b[38;5;129;01min\u001b[39;00m ioargs\u001b[38;5;241m.\u001b[39mmode:\n\u001b[0;32m    862\u001b[0m         \u001b[38;5;66;03m# Encoding\u001b[39;00m\n\u001b[1;32m--> 863\u001b[0m         handle \u001b[38;5;241m=\u001b[39m \u001b[38;5;28mopen\u001b[39m(\n\u001b[0;32m    864\u001b[0m             handle,\n\u001b[0;32m    865\u001b[0m             ioargs\u001b[38;5;241m.\u001b[39mmode,\n\u001b[0;32m    866\u001b[0m             encoding\u001b[38;5;241m=\u001b[39mioargs\u001b[38;5;241m.\u001b[39mencoding,\n\u001b[0;32m    867\u001b[0m             errors\u001b[38;5;241m=\u001b[39merrors,\n\u001b[0;32m    868\u001b[0m             newline\u001b[38;5;241m=\u001b[39m\u001b[38;5;124m\"\u001b[39m\u001b[38;5;124m\"\u001b[39m,\n\u001b[0;32m    869\u001b[0m         )\n\u001b[0;32m    870\u001b[0m     \u001b[38;5;28;01melse\u001b[39;00m:\n\u001b[0;32m    871\u001b[0m         \u001b[38;5;66;03m# Binary mode\u001b[39;00m\n\u001b[0;32m    872\u001b[0m         handle \u001b[38;5;241m=\u001b[39m \u001b[38;5;28mopen\u001b[39m(handle, ioargs\u001b[38;5;241m.\u001b[39mmode)\n",
      "\u001b[1;31mFileNotFoundError\u001b[0m: [Errno 2] No such file or directory: 'data/simulate/Case3(imbalance)/ratio(20240310)/0.1_truth_SpatialData.csv'"
     ]
    }
   ],
   "source": [
    "results = {'ARI': [], 'NMI': [], 'Silhouette': [], 'FMI': [], 'SGD': []}\n",
    "\n",
    "for i in range(1, 10):\n",
    "    coordinate_file_truth = f\"data/simulate/Case3(imbalance)/ratio(20240310)/0.{i}_truth_SpatialData.csv\"\n",
    "    coordinate_file_pred = f\"data/simulate/Case3(imbalance)/ratio(20240310)/0.{i}_SpatialData.csv\"\n",
    "    ARI, NMI, Silhouette, FMI, SGD = evaluate_metrics(coordinate_file_truth, coordinate_file_pred, apply_gene_similarity=False, apply_AD_weight=False)\n",
    "    results['ARI'].append(ARI)\n",
    "    results['NMI'].append(NMI)\n",
    "    results['Silhouette'].append(Silhouette)\n",
    "    results['FMI'].append(FMI)\n",
    "    results['SGD'].append(SGD)\n",
    "\n",
    "# 绘制折线图\n",
    "plt.figure(figsize=(10, 6))\n",
    "for key in results:\n",
    "    plt.plot(range(1, 10), results[key], label=key)\n",
    "\n",
    "plt.xlabel('Ratio (A/B)')\n",
    "plt.ylabel('Metric Value')\n",
    "plt.title('Evaluation Metrics Across Ratios')\n",
    "plt.legend()\n",
    "plt.xticks(range(1, 10), [f'0.{i}' for i in range(1, 10)])\n",
    "plt.grid(True)\n",
    "plt.show()"
   ]
  },
  {
   "cell_type": "markdown",
   "metadata": {},
   "source": [
    "## 1000个 A 分错5个"
   ]
  },
  {
   "cell_type": "code",
   "execution_count": 3,
   "metadata": {},
   "outputs": [
    {
     "name": "stdout",
     "output_type": "stream",
     "text": [
      "Graph Building took 0.06 seconds.\n",
      "Getting edge attributes took 0.02 seconds.\n"
     ]
    },
    {
     "ename": "KeyboardInterrupt",
     "evalue": "",
     "output_type": "error",
     "traceback": [
      "\u001b[1;31m---------------------------------------------------------------------------\u001b[0m",
      "\u001b[1;31mKeyboardInterrupt\u001b[0m                         Traceback (most recent call last)",
      "Cell \u001b[1;32mIn[3], line 6\u001b[0m\n\u001b[0;32m      4\u001b[0m coordinate_file_truth \u001b[38;5;241m=\u001b[39m \u001b[38;5;124mf\u001b[39m\u001b[38;5;124m\"\u001b[39m\u001b[38;5;124mdata/simulate/Case3/test/Case3_1000/0.\u001b[39m\u001b[38;5;132;01m{\u001b[39;00mi\u001b[38;5;132;01m}\u001b[39;00m\u001b[38;5;124m_truth_SpatialData.csv\u001b[39m\u001b[38;5;124m\"\u001b[39m\n\u001b[0;32m      5\u001b[0m coordinate_file_pred \u001b[38;5;241m=\u001b[39m \u001b[38;5;124mf\u001b[39m\u001b[38;5;124m\"\u001b[39m\u001b[38;5;124mdata/simulate/Case3/test/Case3_1000/0.\u001b[39m\u001b[38;5;132;01m{\u001b[39;00mi\u001b[38;5;132;01m}\u001b[39;00m\u001b[38;5;124m_SpatialData.csv\u001b[39m\u001b[38;5;124m\"\u001b[39m\n\u001b[1;32m----> 6\u001b[0m ARI, NMI, Silhouette, FMI, SGD \u001b[38;5;241m=\u001b[39m evaluate_metrics(coordinate_file_truth, coordinate_file_pred, apply_gene_similarity\u001b[38;5;241m=\u001b[39m\u001b[38;5;28;01mFalse\u001b[39;00m, apply_AD_weight\u001b[38;5;241m=\u001b[39m\u001b[38;5;28;01mFalse\u001b[39;00m)\n\u001b[0;32m      7\u001b[0m results[\u001b[38;5;124m'\u001b[39m\u001b[38;5;124mARI\u001b[39m\u001b[38;5;124m'\u001b[39m]\u001b[38;5;241m.\u001b[39mappend(ARI)\n\u001b[0;32m      8\u001b[0m results[\u001b[38;5;124m'\u001b[39m\u001b[38;5;124mNMI\u001b[39m\u001b[38;5;124m'\u001b[39m]\u001b[38;5;241m.\u001b[39mappend(NMI)\n",
      "Cell \u001b[1;32mIn[1], line 16\u001b[0m, in \u001b[0;36mevaluate_metrics\u001b[1;34m(coordinate_file_truth, coordinate_file_pred, apply_gene_similarity, apply_AD_weight)\u001b[0m\n\u001b[0;32m     14\u001b[0m Silhouette \u001b[38;5;241m=\u001b[39m silhouette_score(pred_data[[\u001b[38;5;124m'\u001b[39m\u001b[38;5;124mx\u001b[39m\u001b[38;5;124m'\u001b[39m, \u001b[38;5;124m'\u001b[39m\u001b[38;5;124my\u001b[39m\u001b[38;5;124m'\u001b[39m]], pred_data[\u001b[38;5;124m'\u001b[39m\u001b[38;5;124mgroup\u001b[39m\u001b[38;5;124m'\u001b[39m])\n\u001b[0;32m     15\u001b[0m FMI \u001b[38;5;241m=\u001b[39m fowlkes_mallows_score(truth_data[\u001b[38;5;124m'\u001b[39m\u001b[38;5;124mgroup\u001b[39m\u001b[38;5;124m'\u001b[39m], pred_data[\u001b[38;5;124m'\u001b[39m\u001b[38;5;124mgroup\u001b[39m\u001b[38;5;124m'\u001b[39m])\n\u001b[1;32m---> 16\u001b[0m SGD \u001b[38;5;241m=\u001b[39m main(coordinate_file_truth , coordinate_file_pred ,apply_gene_similarity \u001b[38;5;241m=\u001b[39m apply_gene_similarity , apply_AD_weight\u001b[38;5;241m=\u001b[39mapply_AD_weight)\n\u001b[0;32m     18\u001b[0m \u001b[38;5;28;01mreturn\u001b[39;00m ARI, NMI, Silhouette, FMI, SGD\n",
      "File \u001b[1;32mc:\\CodeFields\\Spatial Group Discrepancy\\Code\\main.py:63\u001b[0m, in \u001b[0;36mmain\u001b[1;34m(coordinate_file_truth, coordinate_file_pred, gene_expr_file, apply_gene_similarity, apply_AD_weight, is_subtying)\u001b[0m\n\u001b[0;32m     59\u001b[0m      attribute_end_time \u001b[38;5;241m=\u001b[39m time\u001b[38;5;241m.\u001b[39mtime()\n\u001b[0;32m     60\u001b[0m      \u001b[38;5;28mprint\u001b[39m(\u001b[38;5;124mf\u001b[39m\u001b[38;5;124m\"\u001b[39m\u001b[38;5;124mGetting edge attributes took \u001b[39m\u001b[38;5;132;01m{\u001b[39;00mattribute_end_time\u001b[38;5;250m \u001b[39m\u001b[38;5;241m-\u001b[39m\u001b[38;5;250m \u001b[39mgraph_building_time\u001b[38;5;132;01m:\u001b[39;00m\u001b[38;5;124m.2f\u001b[39m\u001b[38;5;132;01m}\u001b[39;00m\u001b[38;5;124m seconds.\u001b[39m\u001b[38;5;124m\"\u001b[39m)\n\u001b[1;32m---> 63\u001b[0m      SGD_score \u001b[38;5;241m=\u001b[39m compute_mmd(samples_truth , samples_pred ,kernel \u001b[38;5;241m=\u001b[39m gaussian_emd,is_hist \u001b[38;5;241m=\u001b[39m \u001b[38;5;28;01mTrue\u001b[39;00m)\n\u001b[0;32m     66\u001b[0m      \u001b[38;5;28;01mreturn\u001b[39;00m SGD_score\n\u001b[0;32m     68\u001b[0m \u001b[38;5;28;01mif\u001b[39;00m is_subtying:\n",
      "File \u001b[1;32mc:\\CodeFields\\Spatial Group Discrepancy\\Code\\SGD_calculator.py:50\u001b[0m, in \u001b[0;36mcompute_mmd\u001b[1;34m(samples1, samples2, kernel, is_hist, *args, **kwargs)\u001b[0m\n\u001b[0;32m     47\u001b[0m     samples1 \u001b[38;5;241m=\u001b[39m [s1 \u001b[38;5;241m/\u001b[39m np\u001b[38;5;241m.\u001b[39msum(s1) \u001b[38;5;28;01mfor\u001b[39;00m s1 \u001b[38;5;129;01min\u001b[39;00m samples1]\n\u001b[0;32m     48\u001b[0m     samples2 \u001b[38;5;241m=\u001b[39m [s2 \u001b[38;5;241m/\u001b[39m np\u001b[38;5;241m.\u001b[39msum(s2) \u001b[38;5;28;01mfor\u001b[39;00m s2 \u001b[38;5;129;01min\u001b[39;00m samples2]\n\u001b[1;32m---> 50\u001b[0m \u001b[38;5;28;01mreturn\u001b[39;00m disc(samples1, samples1, kernel, \u001b[38;5;241m*\u001b[39margs, \u001b[38;5;241m*\u001b[39m\u001b[38;5;241m*\u001b[39mkwargs) \u001b[38;5;241m+\u001b[39m \\\n\u001b[0;32m     51\u001b[0m         disc(samples2, samples2, kernel, \u001b[38;5;241m*\u001b[39margs, \u001b[38;5;241m*\u001b[39m\u001b[38;5;241m*\u001b[39mkwargs) \u001b[38;5;241m-\u001b[39m \\\n\u001b[0;32m     52\u001b[0m         \u001b[38;5;241m2\u001b[39m \u001b[38;5;241m*\u001b[39m disc(samples1, samples2, kernel, \u001b[38;5;241m*\u001b[39margs, \u001b[38;5;241m*\u001b[39m\u001b[38;5;241m*\u001b[39mkwargs)\n",
      "File \u001b[1;32mc:\\CodeFields\\Spatial Group Discrepancy\\Code\\SGD_calculator.py:34\u001b[0m, in \u001b[0;36mdisc\u001b[1;34m(samples1, samples2, kernel, *args, **kwargs)\u001b[0m\n\u001b[0;32m     32\u001b[0m s1 \u001b[38;5;241m=\u001b[39m samples1[i] \n\u001b[0;32m     33\u001b[0m s2 \u001b[38;5;241m=\u001b[39m samples2[j]   \n\u001b[1;32m---> 34\u001b[0m d \u001b[38;5;241m+\u001b[39m\u001b[38;5;241m=\u001b[39m kernel(s1, s2, \u001b[38;5;241m*\u001b[39margs, \u001b[38;5;241m*\u001b[39m\u001b[38;5;241m*\u001b[39mkwargs)\n\u001b[0;32m     35\u001b[0m kernel_end_time \u001b[38;5;241m=\u001b[39m time\u001b[38;5;241m.\u001b[39mtime()\n\u001b[0;32m     36\u001b[0m kernel_times\u001b[38;5;241m.\u001b[39mappend(kernel_end_time \u001b[38;5;241m-\u001b[39m kernel_start_time)\n",
      "File \u001b[1;32mc:\\CodeFields\\Spatial Group Discrepancy\\Code\\SGD_calculator.py:15\u001b[0m, in \u001b[0;36mgaussian_emd\u001b[1;34m(x, y, sigma)\u001b[0m\n\u001b[0;32m     12\u001b[0m a \u001b[38;5;241m=\u001b[39m np\u001b[38;5;241m.\u001b[39mones((n,)) \u001b[38;5;241m/\u001b[39m n\n\u001b[0;32m     13\u001b[0m b \u001b[38;5;241m=\u001b[39m np\u001b[38;5;241m.\u001b[39mones((m,)) \u001b[38;5;241m/\u001b[39m m\n\u001b[1;32m---> 15\u001b[0m cost_matrix \u001b[38;5;241m=\u001b[39m ot\u001b[38;5;241m.\u001b[39mdist(X, Y, metric\u001b[38;5;241m=\u001b[39m\u001b[38;5;124m'\u001b[39m\u001b[38;5;124meuclidean\u001b[39m\u001b[38;5;124m'\u001b[39m)\n\u001b[0;32m     16\u001b[0m emd \u001b[38;5;241m=\u001b[39m ot\u001b[38;5;241m.\u001b[39memd2(a, b, cost_matrix , numItermax\u001b[38;5;241m=\u001b[39m\u001b[38;5;241m100000000\u001b[39m)\n\u001b[0;32m     18\u001b[0m \u001b[38;5;28;01mreturn\u001b[39;00m np\u001b[38;5;241m.\u001b[39mexp(\u001b[38;5;241m-\u001b[39memd \u001b[38;5;241m*\u001b[39m emd \u001b[38;5;241m/\u001b[39m (\u001b[38;5;241m2\u001b[39m \u001b[38;5;241m*\u001b[39m sigma \u001b[38;5;241m*\u001b[39m sigma))\n",
      "File \u001b[1;32mc:\\Users\\11146\\.conda\\envs\\Pytorch\\Lib\\site-packages\\ot\\utils.py:309\u001b[0m, in \u001b[0;36mdist\u001b[1;34m(x1, x2, metric, p, w)\u001b[0m\n\u001b[0;32m    307\u001b[0m     \u001b[38;5;28;01mreturn\u001b[39;00m euclidean_distances(x1, x2, squared\u001b[38;5;241m=\u001b[39m\u001b[38;5;28;01mTrue\u001b[39;00m)\n\u001b[0;32m    308\u001b[0m \u001b[38;5;28;01melif\u001b[39;00m metric \u001b[38;5;241m==\u001b[39m \u001b[38;5;124m\"\u001b[39m\u001b[38;5;124meuclidean\u001b[39m\u001b[38;5;124m\"\u001b[39m:\n\u001b[1;32m--> 309\u001b[0m     \u001b[38;5;28;01mreturn\u001b[39;00m euclidean_distances(x1, x2, squared\u001b[38;5;241m=\u001b[39m\u001b[38;5;28;01mFalse\u001b[39;00m)\n\u001b[0;32m    310\u001b[0m \u001b[38;5;28;01melse\u001b[39;00m:\n\u001b[0;32m    311\u001b[0m     \u001b[38;5;28;01mif\u001b[39;00m \u001b[38;5;129;01mnot\u001b[39;00m get_backend(x1, x2)\u001b[38;5;241m.\u001b[39m\u001b[38;5;18m__name__\u001b[39m \u001b[38;5;241m==\u001b[39m \u001b[38;5;124m'\u001b[39m\u001b[38;5;124mnumpy\u001b[39m\u001b[38;5;124m'\u001b[39m:\n",
      "File \u001b[1;32mc:\\Users\\11146\\.conda\\envs\\Pytorch\\Lib\\site-packages\\ot\\utils.py:260\u001b[0m, in \u001b[0;36meuclidean_distances\u001b[1;34m(X, Y, squared)\u001b[0m\n\u001b[0;32m    257\u001b[0m c \u001b[38;5;241m+\u001b[39m\u001b[38;5;241m=\u001b[39m a2[:, \u001b[38;5;28;01mNone\u001b[39;00m]\n\u001b[0;32m    258\u001b[0m c \u001b[38;5;241m+\u001b[39m\u001b[38;5;241m=\u001b[39m b2[\u001b[38;5;28;01mNone\u001b[39;00m, :]\n\u001b[1;32m--> 260\u001b[0m c \u001b[38;5;241m=\u001b[39m nx\u001b[38;5;241m.\u001b[39mmaximum(c, \u001b[38;5;241m0\u001b[39m)\n\u001b[0;32m    262\u001b[0m \u001b[38;5;28;01mif\u001b[39;00m \u001b[38;5;129;01mnot\u001b[39;00m squared:\n\u001b[0;32m    263\u001b[0m     c \u001b[38;5;241m=\u001b[39m nx\u001b[38;5;241m.\u001b[39msqrt(c)\n",
      "File \u001b[1;32mc:\\Users\\11146\\.conda\\envs\\Pytorch\\Lib\\site-packages\\ot\\backend.py:1064\u001b[0m, in \u001b[0;36mNumpyBackend.maximum\u001b[1;34m(self, a, b)\u001b[0m\n\u001b[0;32m   1063\u001b[0m \u001b[38;5;28;01mdef\u001b[39;00m \u001b[38;5;21mmaximum\u001b[39m(\u001b[38;5;28mself\u001b[39m, a, b):\n\u001b[1;32m-> 1064\u001b[0m     \u001b[38;5;28;01mreturn\u001b[39;00m np\u001b[38;5;241m.\u001b[39mmaximum(a, b)\n",
      "\u001b[1;31mKeyboardInterrupt\u001b[0m: "
     ]
    }
   ],
   "source": [
    "results = {'ARI': [], 'NMI': [], 'Silhouette': [], 'FMI': [], 'SGD': []}\n",
    "\n",
    "for i in range(1, 10):\n",
    "    coordinate_file_truth = f\"data/simulate/Case3/test/Case3_1000/0.{i}_truth_SpatialData.csv\"\n",
    "    coordinate_file_pred = f\"data/simulate/Case3/test/Case3_1000/0.{i}_SpatialData.csv\"\n",
    "    ARI, NMI, Silhouette, FMI, SGD = evaluate_metrics(coordinate_file_truth, coordinate_file_pred, apply_gene_similarity=False, apply_AD_weight=False)\n",
    "    results['ARI'].append(ARI)\n",
    "    results['NMI'].append(NMI)\n",
    "    results['Silhouette'].append(Silhouette)\n",
    "    results['FMI'].append(FMI)\n",
    "    results['SGD'].append(SGD)\n",
    "\n",
    "# 绘制折线图\n",
    "plt.figure(figsize=(10, 6))\n",
    "for key in results:\n",
    "    plt.plot(range(1, 10), results[key], label=key)\n",
    "\n",
    "plt.xlabel('Ratio (A/B)')\n",
    "plt.ylabel('Metric Value')\n",
    "plt.title('Evaluation Metrics Across Ratios')\n",
    "plt.legend()\n",
    "plt.xticks(range(1, 10), [f'0.{i}' for i in range(1, 10)])\n",
    "plt.grid(True)\n",
    "plt.show()"
   ]
  }
 ],
 "metadata": {
  "kernelspec": {
   "display_name": "Pytorch",
   "language": "python",
   "name": "python3"
  },
  "language_info": {
   "codemirror_mode": {
    "name": "ipython",
    "version": 3
   },
   "file_extension": ".py",
   "mimetype": "text/x-python",
   "name": "python",
   "nbconvert_exporter": "python",
   "pygments_lexer": "ipython3",
   "version": "3.11.7"
  }
 },
 "nbformat": 4,
 "nbformat_minor": 2
}
