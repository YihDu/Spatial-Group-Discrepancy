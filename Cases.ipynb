{
 "cells": [
  {
   "cell_type": "markdown",
   "metadata": {},
   "source": [
    "# Results_CaseStudy"
   ]
  },
  {
   "cell_type": "code",
   "execution_count": 81,
   "metadata": {},
   "outputs": [
    {
     "name": "stdout",
     "output_type": "stream",
     "text": [
      "The autoreload extension is already loaded. To reload it, use:\n",
      "  %reload_ext autoreload\n"
     ]
    }
   ],
   "source": [
    "from main import main\n",
    "import pandas as pd \n",
    "from sklearn.metrics import adjusted_rand_score , silhouette_score , normalized_mutual_info_score\n",
    "\n",
    "\n",
    "%load_ext autoreload\n",
    "%autoreload 2"
   ]
  },
  {
   "cell_type": "code",
   "execution_count": 82,
   "metadata": {},
   "outputs": [],
   "source": [
    "def evaluate_metrics(coordinate_file_truth , coordinate_file_pred , apply_gene_similarity = False , apply_AD_weight = False):\n",
    "    truth_data = pd.read_csv(coordinate_file_truth)\n",
    "    pred_data = pd.read_csv(coordinate_file_pred)\n",
    "    \n",
    "    ARI = adjusted_rand_score(truth_data['group'] , pred_data['group'])\n",
    "    NMI = normalized_mutual_info_score(truth_data['group'], pred_data['group'])\n",
    "    Silhouette = silhouette_score(pred_data[['x', 'y']], pred_data['group'])\n",
    "    SGD = main(coordinate_file_truth , coordinate_file_pred ,apply_gene_similarity = apply_gene_similarity , apply_AD_weight=apply_AD_weight)\n",
    "    \n",
    "    return {\n",
    "        \"ARI\":ARI , \n",
    "        \"NMI\":NMI ,\n",
    "        \"Silhouette Coefficient\":Silhouette,\n",
    "        \"SGD\":SGD\n",
    "    }"
   ]
  },
  {
   "cell_type": "markdown",
   "metadata": {},
   "source": [
    "## Case 1 : 边缘/中心"
   ]
  },
  {
   "cell_type": "markdown",
   "metadata": {},
   "source": [
    "### 边缘"
   ]
  },
  {
   "cell_type": "code",
   "execution_count": 86,
   "metadata": {},
   "outputs": [
    {
     "name": "stdout",
     "output_type": "stream",
     "text": [
      "Graph Building took 0.00 seconds.\n",
      "Getting edge attributes took 2.93 seconds.\n",
      "Entire loop took 0.33350 seconds.\n",
      "Average kernel execution time: 0.00333 seconds.\n",
      "Entire loop took 0.33356 seconds.\n",
      "Average kernel execution time: 0.00334 seconds.\n",
      "Entire loop took 0.88290 seconds.\n",
      "Average kernel execution time: 0.00883 seconds.\n"
     ]
    },
    {
     "data": {
      "text/plain": [
       "{'ARI': 0.5455688378269921,\n",
       " 'NMI': 0.5568468396464958,\n",
       " 'Silhouette Coefficient': 0.34753340616847317,\n",
       " 'SGD': 0.33804024085819995}"
      ]
     },
     "execution_count": 86,
     "metadata": {},
     "output_type": "execute_result"
    }
   ],
   "source": [
    "coordinate_file_truth = \"data/simulate/Case1/truth_SpatialData.csv\"\n",
    "coordinate_file_pred = \"data/simulate/Case1/edge_SpatialData.csv\"\n",
    "\n",
    "evaluate_metrics(coordinate_file_truth ,coordinate_file_pred , apply_gene_similarity = False , apply_AD_weight = False)"
   ]
  },
  {
   "cell_type": "markdown",
   "metadata": {},
   "source": [
    "### 中心"
   ]
  },
  {
   "cell_type": "code",
   "execution_count": 85,
   "metadata": {},
   "outputs": [
    {
     "name": "stdout",
     "output_type": "stream",
     "text": [
      "Graph Building took 0.00 seconds.\n",
      "Getting edge attributes took 2.95 seconds.\n",
      "Entire loop took 0.34804 seconds.\n",
      "Average kernel execution time: 0.00348 seconds.\n",
      "Entire loop took 0.34892 seconds.\n",
      "Average kernel execution time: 0.00349 seconds.\n",
      "Entire loop took 0.93320 seconds.\n",
      "Average kernel execution time: 0.00933 seconds.\n"
     ]
    },
    {
     "data": {
      "text/plain": [
       "{'ARI': 0.5455688378269921,\n",
       " 'NMI': 0.5568468396464958,\n",
       " 'Silhouette Coefficient': 0.17981067635626208,\n",
       " 'SGD': 0.7813764020029736}"
      ]
     },
     "execution_count": 85,
     "metadata": {},
     "output_type": "execute_result"
    }
   ],
   "source": [
    "coordinate_file_truth = \"data/simulate/Case1/truth_SpatialData.csv\"\n",
    "coordinate_file_pred = \"data/simulate/Case1/center_SpatialData.csv\"\n",
    "\n",
    "evaluate_metrics(coordinate_file_truth ,coordinate_file_pred ,apply_gene_similarity = False , apply_AD_weight = False)"
   ]
  },
  {
   "cell_type": "markdown",
   "metadata": {},
   "source": [
    "## Case 2 : FN vs FP"
   ]
  },
  {
   "cell_type": "markdown",
   "metadata": {},
   "source": [
    "### Case2.1:Binary"
   ]
  },
  {
   "cell_type": "markdown",
   "metadata": {},
   "source": [
    "#### FP"
   ]
  },
  {
   "cell_type": "code",
   "execution_count": 88,
   "metadata": {},
   "outputs": [
    {
     "name": "stdout",
     "output_type": "stream",
     "text": [
      "Graph Building took 0.02 seconds.\n",
      "Getting edge attributes took 3.07 seconds.\n",
      "Entire loop took 0.35016 seconds.\n",
      "Average kernel execution time: 0.00350 seconds.\n",
      "Entire loop took 0.34660 seconds.\n",
      "Average kernel execution time: 0.00347 seconds.\n",
      "Entire loop took 0.85448 seconds.\n",
      "Average kernel execution time: 0.00854 seconds.\n"
     ]
    },
    {
     "data": {
      "text/plain": [
       "{'ARI': 0.5455688378269921,\n",
       " 'NMI': 0.5568468396464958,\n",
       " 'Silhouette Coefficient': 0.2398340695391199,\n",
       " 'SGD': 0.42521797294574504}"
      ]
     },
     "execution_count": 88,
     "metadata": {},
     "output_type": "execute_result"
    }
   ],
   "source": [
    "coordinate_file_truth = \"data/simulate/Case2.1/truth_SpatialData.csv\"\n",
    "coordinate_file_pred = \"data/simulate/Case2.1/N-A_SpatialData.csv\"\n",
    "\n",
    "evaluate_metrics(coordinate_file_truth ,coordinate_file_pred , apply_gene_similarity= False , apply_AD_weight=True)"
   ]
  },
  {
   "cell_type": "markdown",
   "metadata": {},
   "source": [
    "#### FN"
   ]
  },
  {
   "cell_type": "code",
   "execution_count": 89,
   "metadata": {},
   "outputs": [
    {
     "name": "stdout",
     "output_type": "stream",
     "text": [
      "Graph Building took 0.02 seconds.\n",
      "Getting edge attributes took 3.00 seconds.\n",
      "Entire loop took 0.34730 seconds.\n",
      "Average kernel execution time: 0.00347 seconds.\n",
      "Entire loop took 0.33326 seconds.\n",
      "Average kernel execution time: 0.00333 seconds.\n",
      "Entire loop took 0.86627 seconds.\n",
      "Average kernel execution time: 0.00866 seconds.\n"
     ]
    },
    {
     "data": {
      "text/plain": [
       "{'ARI': 0.5453852108087306,\n",
       " 'NMI': 0.5418868089053984,\n",
       " 'Silhouette Coefficient': 0.3449033229208199,\n",
       " 'SGD': 0.7609313138715699}"
      ]
     },
     "execution_count": 89,
     "metadata": {},
     "output_type": "execute_result"
    }
   ],
   "source": [
    "coordinate_file_truth = \"data/simulate/Case2.1/truth_SpatialData.csv\"\n",
    "coordinate_file_pred = \"data/simulate/Case2.1/A-N_SpatialData.csv\"\n",
    "\n",
    "evaluate_metrics(coordinate_file_truth ,coordinate_file_pred , apply_gene_similarity= False , apply_AD_weight=True)"
   ]
  },
  {
   "cell_type": "markdown",
   "metadata": {},
   "source": [
    "### Case2.2: 3 types \n",
    "Anomaly: B C \n",
    "\n",
    "Normal:A\n",
    "\n",
    "type B is more serious than type C"
   ]
  },
  {
   "cell_type": "markdown",
   "metadata": {},
   "source": [
    "#### B-A"
   ]
  },
  {
   "cell_type": "code",
   "execution_count": null,
   "metadata": {},
   "outputs": [],
   "source": []
  },
  {
   "cell_type": "markdown",
   "metadata": {},
   "source": [
    "#### C-A"
   ]
  },
  {
   "cell_type": "code",
   "execution_count": null,
   "metadata": {},
   "outputs": [],
   "source": []
  },
  {
   "cell_type": "markdown",
   "metadata": {},
   "source": [
    "## Case 4 : Gene Similarity"
   ]
  },
  {
   "cell_type": "markdown",
   "metadata": {},
   "source": [
    "### Case 4.1:不同类的分到同一类"
   ]
  },
  {
   "cell_type": "markdown",
   "metadata": {},
   "source": [
    "#### 相似"
   ]
  },
  {
   "cell_type": "code",
   "execution_count": 91,
   "metadata": {},
   "outputs": [],
   "source": [
    "coordinate_file_truth = \"data/simulate/Case4/4.1/sim_truth_SpatialData.csv\"\n",
    "coordinate_file_pred = \"data/simulate/Case4/4.1/sim_pred_SpatialData.csv\""
   ]
  },
  {
   "cell_type": "code",
   "execution_count": 92,
   "metadata": {},
   "outputs": [
    {
     "ename": "ValueError",
     "evalue": "To apply gene similarity weight , gene expression data must be loaded.",
     "output_type": "error",
     "traceback": [
      "\u001b[1;31m---------------------------------------------------------------------------\u001b[0m",
      "\u001b[1;31mValueError\u001b[0m                                Traceback (most recent call last)",
      "Cell \u001b[1;32mIn[92], line 1\u001b[0m\n\u001b[1;32m----> 1\u001b[0m evaluate_metrics(coordinate_file_truth ,coordinate_file_pred , apply_gene_similarity\u001b[38;5;241m=\u001b[39m \u001b[38;5;28;01mTrue\u001b[39;00m , apply_AD_weight\u001b[38;5;241m=\u001b[39m\u001b[38;5;28;01mFalse\u001b[39;00m)\n",
      "Cell \u001b[1;32mIn[82], line 8\u001b[0m, in \u001b[0;36mevaluate_metrics\u001b[1;34m(coordinate_file_truth, coordinate_file_pred, apply_gene_similarity, apply_AD_weight)\u001b[0m\n\u001b[0;32m      6\u001b[0m NMI \u001b[38;5;241m=\u001b[39m normalized_mutual_info_score(truth_data[\u001b[38;5;124m'\u001b[39m\u001b[38;5;124mgroup\u001b[39m\u001b[38;5;124m'\u001b[39m], pred_data[\u001b[38;5;124m'\u001b[39m\u001b[38;5;124mgroup\u001b[39m\u001b[38;5;124m'\u001b[39m])\n\u001b[0;32m      7\u001b[0m Silhouette \u001b[38;5;241m=\u001b[39m silhouette_score(pred_data[[\u001b[38;5;124m'\u001b[39m\u001b[38;5;124mx\u001b[39m\u001b[38;5;124m'\u001b[39m, \u001b[38;5;124m'\u001b[39m\u001b[38;5;124my\u001b[39m\u001b[38;5;124m'\u001b[39m]], pred_data[\u001b[38;5;124m'\u001b[39m\u001b[38;5;124mgroup\u001b[39m\u001b[38;5;124m'\u001b[39m])\n\u001b[1;32m----> 8\u001b[0m SGD \u001b[38;5;241m=\u001b[39m main(coordinate_file_truth , coordinate_file_pred ,apply_gene_similarity \u001b[38;5;241m=\u001b[39m apply_gene_similarity , apply_AD_weight\u001b[38;5;241m=\u001b[39mapply_AD_weight)\n\u001b[0;32m     10\u001b[0m \u001b[38;5;28;01mreturn\u001b[39;00m {\n\u001b[0;32m     11\u001b[0m     \u001b[38;5;124m\"\u001b[39m\u001b[38;5;124mARI\u001b[39m\u001b[38;5;124m\"\u001b[39m:ARI , \n\u001b[0;32m     12\u001b[0m     \u001b[38;5;124m\"\u001b[39m\u001b[38;5;124mNMI\u001b[39m\u001b[38;5;124m\"\u001b[39m:NMI ,\n\u001b[0;32m     13\u001b[0m     \u001b[38;5;124m\"\u001b[39m\u001b[38;5;124mSilhouette Coefficient\u001b[39m\u001b[38;5;124m\"\u001b[39m:Silhouette,\n\u001b[0;32m     14\u001b[0m     \u001b[38;5;124m\"\u001b[39m\u001b[38;5;124mSGD\u001b[39m\u001b[38;5;124m\"\u001b[39m:SGD\n\u001b[0;32m     15\u001b[0m }\n",
      "File \u001b[1;32mc:\\CodeFields\\Spatial Group Discrepancy\\Code\\main.py:45\u001b[0m, in \u001b[0;36mmain\u001b[1;34m(coordinate_file_truth, coordinate_file_pred, gene_expr_file, apply_gene_similarity, apply_AD_weight, is_subtying)\u001b[0m\n\u001b[0;32m     35\u001b[0m start_time \u001b[38;5;241m=\u001b[39m time\u001b[38;5;241m.\u001b[39mtime()\n\u001b[0;32m     37\u001b[0m graph_builder \u001b[38;5;241m=\u001b[39m GraphBuilder(\n\u001b[0;32m     38\u001b[0m      pred_file \u001b[38;5;241m=\u001b[39m coordinate_file_pred , \n\u001b[0;32m     39\u001b[0m      truth_file \u001b[38;5;241m=\u001b[39m coordinate_file_truth ,\n\u001b[1;32m   (...)\u001b[0m\n\u001b[0;32m     42\u001b[0m      apply_AD_weight \u001b[38;5;241m=\u001b[39m apply_AD_weight\n\u001b[0;32m     43\u001b[0m      )\n\u001b[1;32m---> 45\u001b[0m graph_truth , graph_pred \u001b[38;5;241m=\u001b[39m graph_builder\u001b[38;5;241m.\u001b[39mprocess_graph()\n\u001b[0;32m     47\u001b[0m graph_building_time \u001b[38;5;241m=\u001b[39m time\u001b[38;5;241m.\u001b[39mtime()\n\u001b[0;32m     48\u001b[0m \u001b[38;5;28mprint\u001b[39m(\u001b[38;5;124mf\u001b[39m\u001b[38;5;124m\"\u001b[39m\u001b[38;5;124mGraph Building took \u001b[39m\u001b[38;5;132;01m{\u001b[39;00mgraph_building_time\u001b[38;5;250m \u001b[39m\u001b[38;5;241m-\u001b[39m\u001b[38;5;250m \u001b[39mstart_time\u001b[38;5;132;01m:\u001b[39;00m\u001b[38;5;124m.2f\u001b[39m\u001b[38;5;132;01m}\u001b[39;00m\u001b[38;5;124m seconds.\u001b[39m\u001b[38;5;124m\"\u001b[39m)\n",
      "File \u001b[1;32mc:\\CodeFields\\Spatial Group Discrepancy\\Code\\data_processor.py:128\u001b[0m, in \u001b[0;36mGraphBuilder.process_graph\u001b[1;34m(self)\u001b[0m\n\u001b[0;32m    124\u001b[0m \u001b[38;5;28mself\u001b[39m\u001b[38;5;241m.\u001b[39mbuild_graph(\u001b[38;5;28mself\u001b[39m\u001b[38;5;241m.\u001b[39mpred_file , \u001b[38;5;28mself\u001b[39m\u001b[38;5;241m.\u001b[39mpred_G)\n\u001b[0;32m    127\u001b[0m \u001b[38;5;28;01mif\u001b[39;00m \u001b[38;5;28mself\u001b[39m\u001b[38;5;241m.\u001b[39mapply_gene_similarity:\n\u001b[1;32m--> 128\u001b[0m     \u001b[38;5;28mself\u001b[39m\u001b[38;5;241m.\u001b[39mcalculate_gene_similarity(\u001b[38;5;28mself\u001b[39m\u001b[38;5;241m.\u001b[39mtruth_G)\n\u001b[0;32m    129\u001b[0m     \u001b[38;5;28mself\u001b[39m\u001b[38;5;241m.\u001b[39mcalculate_gene_similarity(\u001b[38;5;28mself\u001b[39m\u001b[38;5;241m.\u001b[39mpred_G)\n\u001b[0;32m    131\u001b[0m \u001b[38;5;28;01mif\u001b[39;00m \u001b[38;5;28mself\u001b[39m\u001b[38;5;241m.\u001b[39mapply_AD_weight:\n",
      "File \u001b[1;32mc:\\CodeFields\\Spatial Group Discrepancy\\Code\\data_processor.py:57\u001b[0m, in \u001b[0;36mGraphBuilder.calculate_gene_similarity\u001b[1;34m(self, graph)\u001b[0m\n\u001b[0;32m     53\u001b[0m         graph\u001b[38;5;241m.\u001b[39medges[u,v][\u001b[38;5;124m'\u001b[39m\u001b[38;5;124mweight\u001b[39m\u001b[38;5;124m'\u001b[39m] \u001b[38;5;241m=\u001b[39m \u001b[38;5;241m1\u001b[39m \u001b[38;5;241m-\u001b[39m pearson_weight\n\u001b[0;32m     56\u001b[0m \u001b[38;5;28;01melse\u001b[39;00m:\n\u001b[1;32m---> 57\u001b[0m     \u001b[38;5;28;01mraise\u001b[39;00m \u001b[38;5;167;01mValueError\u001b[39;00m(\u001b[38;5;124m\"\u001b[39m\u001b[38;5;124mTo apply gene similarity weight , gene expression data must be loaded.\u001b[39m\u001b[38;5;124m\"\u001b[39m)\n",
      "\u001b[1;31mValueError\u001b[0m: To apply gene similarity weight , gene expression data must be loaded."
     ]
    }
   ],
   "source": [
    "evaluate_metrics(coordinate_file_truth ,coordinate_file_pred , apply_gene_similarity= True , apply_AD_weight=False)"
   ]
  },
  {
   "cell_type": "markdown",
   "metadata": {},
   "source": [
    "#### 不相似"
   ]
  }
 ],
 "metadata": {
  "kernelspec": {
   "display_name": "Pytorch",
   "language": "python",
   "name": "python3"
  },
  "language_info": {
   "codemirror_mode": {
    "name": "ipython",
    "version": 3
   },
   "file_extension": ".py",
   "mimetype": "text/x-python",
   "name": "python",
   "nbconvert_exporter": "python",
   "pygments_lexer": "ipython3",
   "version": "3.11.7"
  }
 },
 "nbformat": 4,
 "nbformat_minor": 2
}
