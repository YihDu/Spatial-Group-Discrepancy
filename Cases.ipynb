{
 "cells": [
  {
   "cell_type": "markdown",
   "metadata": {},
   "source": [
    "# Results_CaseStudy"
   ]
  },
  {
   "cell_type": "code",
   "execution_count": 1,
   "metadata": {},
   "outputs": [],
   "source": [
    "from main import main\n",
    "import pandas as pd \n",
    "from sklearn.metrics import adjusted_rand_score , silhouette_score\n",
    "\n",
    "\n",
    "%load_ext autoreload\n",
    "%autoreload 2"
   ]
  },
  {
   "cell_type": "markdown",
   "metadata": {},
   "source": [
    "## Case 1 : 边缘/中心"
   ]
  },
  {
   "cell_type": "markdown",
   "metadata": {},
   "source": [
    "### 边缘"
   ]
  },
  {
   "cell_type": "markdown",
   "metadata": {},
   "source": [
    "#### ARI"
   ]
  },
  {
   "cell_type": "code",
   "execution_count": 20,
   "metadata": {},
   "outputs": [
    {
     "name": "stdout",
     "output_type": "stream",
     "text": [
      "ARI:0.7697399119401651\n"
     ]
    }
   ],
   "source": [
    "coordinate_file_truth = \"data/simulate data/Case1/truth_SpatialData.csv\"\n",
    "coordinate_file_pred = \"data/simulate data/Case1/edge_SpatialData.csv\"\n",
    "truth_data = pd.read_csv(coordinate_file_truth)\n",
    "pred_data = pd.read_csv(coordinate_file_pred)\n",
    "\n",
    "ARI = adjusted_rand_score(truth_data['group'] , pred_data['group'])\n",
    "print(f\"ARI:{ARI}\")"
   ]
  },
  {
   "cell_type": "markdown",
   "metadata": {},
   "source": [
    "#### SGD"
   ]
  },
  {
   "cell_type": "code",
   "execution_count": 21,
   "metadata": {},
   "outputs": [
    {
     "name": "stdout",
     "output_type": "stream",
     "text": [
      "Unexpected exception formatting exception. Falling back to standard exception\n"
     ]
    },
    {
     "name": "stderr",
     "output_type": "stream",
     "text": [
      "Traceback (most recent call last):\n",
      "  File \"c:\\Users\\11146\\.conda\\envs\\Pytorch\\Lib\\site-packages\\IPython\\core\\interactiveshell.py\", line 3553, in run_code\n",
      "    exec(code_obj, self.user_global_ns, self.user_ns)\n",
      "  File \"C:\\Users\\11146\\AppData\\Local\\Temp\\ipykernel_22380\\1253319013.py\", line 1, in <module>\n",
      "    SGD = main(coordinate_file_truth , coordinate_file_pred , apply_gene_similarity = False)\n",
      "          ^^^^^^^^^^^^^^^^^^^^^^^^^^^^^^^^^^^^^^^^^^^^^^^^^^^^^^^^^^^^^^^^^^^^^^^^^^^^^^^^^^\n",
      "  File \"c:\\CodeFields\\Spatial Group Discrepancy\\Code\\main.py\", line 54, in main\n",
      "  File \"c:\\CodeFields\\Spatial Group Discrepancy\\Code\\SGD_calculator.py\", line 40, in compute_mmd\n",
      "    disc(samples2, samples2, kernel, *args, **kwargs) - \\\n",
      "    ^^^^^^^^^^^^^^^^^^^^^^^^^^^^^^^^^^^^^^^^^^^^^^^^^\n",
      "  File \"c:\\CodeFields\\Spatial Group Discrepancy\\Code\\SGD_calculator.py\", line 29, in disc\n",
      "    d += kernel(s1, s2, *args, **kwargs)\n",
      "         ^^^^^^^^^^^^^^^^^^^^^^^^^^^^^^^\n",
      "  File \"c:\\CodeFields\\Spatial Group Discrepancy\\Code\\SGD_calculator.py\", line 15, in gaussian_emd\n",
      "    emd = ot.emd2(a, b, cost_matrix)\n",
      "          ^^^^^^^^^^^^^^^^^^^^^^^^^^\n",
      "  File \"c:\\Users\\11146\\.conda\\envs\\Pytorch\\Lib\\site-packages\\ot\\lp\\__init__.py\", line 575, in emd2\n",
      "    return f(b)\n",
      "           ^^^^\n",
      "  File \"c:\\Users\\11146\\.conda\\envs\\Pytorch\\Lib\\site-packages\\ot\\lp\\__init__.py\", line 550, in f\n",
      "    G, cost, u, v, result_code = emd_c(a, b, M, numItermax, numThreads)\n",
      "                                 ^^^^^^^^^^^^^^^^^^^^^^^^^^^^^^^^^^^^^^\n",
      "KeyboardInterrupt\n",
      "\n",
      "During handling of the above exception, another exception occurred:\n",
      "\n",
      "Traceback (most recent call last):\n",
      "  File \"c:\\Users\\11146\\.conda\\envs\\Pytorch\\Lib\\site-packages\\IPython\\core\\interactiveshell.py\", line 2144, in showtraceback\n",
      "    stb = self.InteractiveTB.structured_traceback(\n",
      "          ^^^^^^^^^^^^^^^^^^^^^^^^^^^^^^^^^^^^^^^^\n",
      "  File \"c:\\Users\\11146\\.conda\\envs\\Pytorch\\Lib\\site-packages\\IPython\\core\\ultratb.py\", line 1435, in structured_traceback\n",
      "    return FormattedTB.structured_traceback(\n",
      "           ^^^^^^^^^^^^^^^^^^^^^^^^^^^^^^^^^\n",
      "  File \"c:\\Users\\11146\\.conda\\envs\\Pytorch\\Lib\\site-packages\\IPython\\core\\ultratb.py\", line 1326, in structured_traceback\n",
      "    return VerboseTB.structured_traceback(\n",
      "           ^^^^^^^^^^^^^^^^^^^^^^^^^^^^^^^\n",
      "  File \"c:\\Users\\11146\\.conda\\envs\\Pytorch\\Lib\\site-packages\\IPython\\core\\ultratb.py\", line 1173, in structured_traceback\n",
      "    formatted_exception = self.format_exception_as_a_whole(etype, evalue, etb, number_of_lines_of_context,\n",
      "                          ^^^^^^^^^^^^^^^^^^^^^^^^^^^^^^^^^^^^^^^^^^^^^^^^^^^^^^^^^^^^^^^^^^^^^^^^^^^^^^^^\n",
      "  File \"c:\\Users\\11146\\.conda\\envs\\Pytorch\\Lib\\site-packages\\IPython\\core\\ultratb.py\", line 1088, in format_exception_as_a_whole\n",
      "    frames.append(self.format_record(record))\n",
      "                  ^^^^^^^^^^^^^^^^^^^^^^^^^^\n",
      "  File \"c:\\Users\\11146\\.conda\\envs\\Pytorch\\Lib\\site-packages\\IPython\\core\\ultratb.py\", line 970, in format_record\n",
      "    frame_info.lines, Colors, self.has_colors, lvals\n",
      "    ^^^^^^^^^^^^^^^^\n",
      "  File \"c:\\Users\\11146\\.conda\\envs\\Pytorch\\Lib\\site-packages\\IPython\\core\\ultratb.py\", line 792, in lines\n",
      "    return self._sd.lines\n",
      "           ^^^^^^^^^^^^^^\n",
      "  File \"c:\\Users\\11146\\.conda\\envs\\Pytorch\\Lib\\site-packages\\stack_data\\utils.py\", line 145, in cached_property_wrapper\n",
      "    value = obj.__dict__[self.func.__name__] = self.func(obj)\n",
      "                                               ^^^^^^^^^^^^^^\n",
      "  File \"c:\\Users\\11146\\.conda\\envs\\Pytorch\\Lib\\site-packages\\stack_data\\core.py\", line 698, in lines\n",
      "    pieces = self.included_pieces\n",
      "             ^^^^^^^^^^^^^^^^^^^^\n",
      "  File \"c:\\Users\\11146\\.conda\\envs\\Pytorch\\Lib\\site-packages\\stack_data\\utils.py\", line 145, in cached_property_wrapper\n",
      "    value = obj.__dict__[self.func.__name__] = self.func(obj)\n",
      "                                               ^^^^^^^^^^^^^^\n",
      "  File \"c:\\Users\\11146\\.conda\\envs\\Pytorch\\Lib\\site-packages\\stack_data\\core.py\", line 649, in included_pieces\n",
      "    pos = scope_pieces.index(self.executing_piece)\n",
      "                             ^^^^^^^^^^^^^^^^^^^^\n",
      "  File \"c:\\Users\\11146\\.conda\\envs\\Pytorch\\Lib\\site-packages\\stack_data\\utils.py\", line 145, in cached_property_wrapper\n",
      "    value = obj.__dict__[self.func.__name__] = self.func(obj)\n",
      "                                               ^^^^^^^^^^^^^^\n",
      "  File \"c:\\Users\\11146\\.conda\\envs\\Pytorch\\Lib\\site-packages\\stack_data\\core.py\", line 628, in executing_piece\n",
      "    return only(\n",
      "           ^^^^^\n",
      "  File \"c:\\Users\\11146\\.conda\\envs\\Pytorch\\Lib\\site-packages\\executing\\executing.py\", line 164, in only\n",
      "    raise NotOneValueFound('Expected one value, found 0')\n",
      "executing.executing.NotOneValueFound: Expected one value, found 0\n"
     ]
    }
   ],
   "source": [
    "SGD = main(coordinate_file_truth , coordinate_file_pred , apply_gene_similarity = False)\n",
    "\n",
    "print(SGD)"
   ]
  },
  {
   "cell_type": "markdown",
   "metadata": {},
   "source": [
    "### 中心"
   ]
  },
  {
   "cell_type": "markdown",
   "metadata": {},
   "source": [
    "#### ARI"
   ]
  },
  {
   "cell_type": "code",
   "execution_count": null,
   "metadata": {},
   "outputs": [
    {
     "name": "stdout",
     "output_type": "stream",
     "text": [
      "ARI:0.7697399119401651\n"
     ]
    }
   ],
   "source": [
    "coordinate_file_truth = \"data/simulate data/Case1/truth_SpatialData.csv\"\n",
    "coordinate_file_pred = \"data/simulate data/Case1/center_SpatialData.csv\"\n",
    "truth_data = pd.read_csv(coordinate_file_truth)\n",
    "pred_data = pd.read_csv(coordinate_file_pred)\n",
    "\n",
    "ARI = adjusted_rand_score(truth_data['group'] , pred_data['group'])\n",
    "print(f\"ARI:{ARI}\")"
   ]
  },
  {
   "cell_type": "markdown",
   "metadata": {},
   "source": [
    "#### SGD"
   ]
  },
  {
   "cell_type": "code",
   "execution_count": null,
   "metadata": {},
   "outputs": [
    {
     "name": "stderr",
     "output_type": "stream",
     "text": [
      "c:\\Users\\11146\\.conda\\envs\\Pytorch\\Lib\\site-packages\\ot\\lp\\__init__.py:571: UserWarning: numItermax reached before optimality. Try to increase numItermax.\n",
      "  check_result(result_code)\n"
     ]
    },
    {
     "name": "stdout",
     "output_type": "stream",
     "text": [
      "SGD:0.6106524317700563\n"
     ]
    }
   ],
   "source": [
    "SGD = main(coordinate_file_truth , coordinate_file_pred , apply_gene_similarity = False)\n",
    "\n",
    "print(f\"SGD:{SGD}\")"
   ]
  },
  {
   "cell_type": "markdown",
   "metadata": {},
   "source": [
    "## Case 2 : FN vs FP"
   ]
  },
  {
   "cell_type": "markdown",
   "metadata": {},
   "source": [
    "### FP"
   ]
  },
  {
   "cell_type": "code",
   "execution_count": 2,
   "metadata": {},
   "outputs": [],
   "source": [
    "coordinate_file_truth = \"data/simulate data/Case2/truth_SpatialData.csv\"\n",
    "coordinate_file_pred = \"data/simulate data/Case2/N-A_SpatialData.csv\""
   ]
  },
  {
   "cell_type": "markdown",
   "metadata": {},
   "source": [
    "#### ARI"
   ]
  },
  {
   "cell_type": "code",
   "execution_count": null,
   "metadata": {},
   "outputs": [
    {
     "name": "stdout",
     "output_type": "stream",
     "text": [
      "ARI:0.7697399119401651\n"
     ]
    }
   ],
   "source": [
    "truth_data = pd.read_csv(coordinate_file_truth)\n",
    "pred_data = pd.read_csv(coordinate_file_pred)\n",
    "\n",
    "ARI = adjusted_rand_score(truth_data['group'] , pred_data['group'])\n",
    "print(f\"ARI:{ARI}\")"
   ]
  },
  {
   "cell_type": "markdown",
   "metadata": {},
   "source": [
    "#### SGD"
   ]
  },
  {
   "cell_type": "code",
   "execution_count": 10,
   "metadata": {},
   "outputs": [
    {
     "name": "stdout",
     "output_type": "stream",
     "text": [
      "Graph Building took 0.07 seconds.\n",
      "Getting edge attributes took 226.57 seconds.\n",
      "Entire loop took 114.27764 seconds.\n",
      "Average kernel execution time: 1.14278 seconds.\n",
      "Entire loop took 111.65202 seconds.\n",
      "Average kernel execution time: 1.11651 seconds.\n",
      "Entire loop took 142.95355 seconds.\n",
      "Average kernel execution time: 1.42954 seconds.\n",
      "SGD:1.1521196541860552\n"
     ]
    }
   ],
   "source": [
    "SGD = main(coordinate_file_truth , coordinate_file_pred , apply_gene_similarity = False , apply_AD_weight = True)\n",
    "\n",
    "print(f\"SGD:{SGD}\")"
   ]
  },
  {
   "cell_type": "markdown",
   "metadata": {},
   "source": [
    "### FN"
   ]
  },
  {
   "cell_type": "code",
   "execution_count": 10,
   "metadata": {},
   "outputs": [],
   "source": [
    "coordinate_file_truth = \"data/simulate data/Case2/truth_SpatialData.csv\"\n",
    "coordinate_file_pred = \"data/simulate data/Case2/A-N_SpatialData.csv\""
   ]
  },
  {
   "cell_type": "markdown",
   "metadata": {},
   "source": [
    "#### ARI"
   ]
  },
  {
   "cell_type": "code",
   "execution_count": null,
   "metadata": {},
   "outputs": [
    {
     "name": "stdout",
     "output_type": "stream",
     "text": [
      "ARI:0.768408376513818\n"
     ]
    }
   ],
   "source": [
    "truth_data = pd.read_csv(coordinate_file_truth)\n",
    "pred_data = pd.read_csv(coordinate_file_pred)\n",
    "\n",
    "ARI = adjusted_rand_score(truth_data['group'] , pred_data['group'])\n",
    "print(f\"ARI:{ARI}\")"
   ]
  },
  {
   "cell_type": "markdown",
   "metadata": {},
   "source": [
    "#### SGD"
   ]
  },
  {
   "cell_type": "code",
   "execution_count": 11,
   "metadata": {},
   "outputs": [
    {
     "name": "stdout",
     "output_type": "stream",
     "text": [
      "Graph Building took 0.07 seconds.\n",
      "Getting edge attributes took 285.86 seconds.\n",
      "Entire loop took 133.29692 seconds.\n",
      "Average kernel execution time: 1.33297 seconds.\n",
      "Entire loop took 134.82849 seconds.\n",
      "Average kernel execution time: 1.34828 seconds.\n",
      "Entire loop took 182.45692 seconds.\n",
      "Average kernel execution time: 1.82456 seconds.\n",
      "SGD:1.4895307946047878\n"
     ]
    }
   ],
   "source": [
    "SGD = main(coordinate_file_truth , coordinate_file_pred , apply_gene_similarity = False , apply_AD_weight = True)\n",
    "\n",
    "print(f\"SGD:{SGD}\")"
   ]
  },
  {
   "cell_type": "markdown",
   "metadata": {},
   "source": [
    "## Case 3 : subtype"
   ]
  },
  {
   "cell_type": "code",
   "execution_count": null,
   "metadata": {},
   "outputs": [],
   "source": [
    "coordinate_file_truth = \"data/simulate data/Case4/Truth_SpatialData.csv\"\n",
    "coordinate_file_pred = \"data/simulate data/Case4/Subty_SpatialData.csv\""
   ]
  },
  {
   "cell_type": "markdown",
   "metadata": {},
   "source": [
    "#### 整体"
   ]
  },
  {
   "cell_type": "code",
   "execution_count": null,
   "metadata": {},
   "outputs": [
    {
     "name": "stdout",
     "output_type": "stream",
     "text": [
      "SGD:0.666744314050523\n"
     ]
    }
   ],
   "source": [
    "SGD = main(coordinate_file_truth , coordinate_file_pred , apply_gene_similarity = False , apply_AD_weight = False , is_subtying = False)\n",
    "print(f\"SGD:{SGD}\")"
   ]
  },
  {
   "cell_type": "markdown",
   "metadata": {},
   "source": [
    "#### A B C"
   ]
  },
  {
   "cell_type": "code",
   "execution_count": null,
   "metadata": {},
   "outputs": [
    {
     "name": "stdout",
     "output_type": "stream",
     "text": [
      "Group A : 0.6666453605790776 , Group B : 0.6666608931133073 , Group C : 0.666642863705365\n"
     ]
    }
   ],
   "source": [
    "SGD_score_1  , SGD_score_2 , SGD_score_3 = main(coordinate_file_truth , coordinate_file_pred , apply_gene_similarity = False , apply_AD_weight = False , is_subtying = True)\n",
    "print(f\"Group A : {SGD_score_1} , Group B : {SGD_score_2} , Group C : {SGD_score_3}\")"
   ]
  },
  {
   "cell_type": "markdown",
   "metadata": {},
   "source": [
    "## Case 4 : Gene Similarity"
   ]
  },
  {
   "cell_type": "markdown",
   "metadata": {},
   "source": [
    "### 相似"
   ]
  },
  {
   "cell_type": "code",
   "execution_count": 5,
   "metadata": {},
   "outputs": [],
   "source": [
    "coordinate_file_truth = \"data/simulate data/Case5/truth_sim_SpatialData.csv\"\n",
    "coordinate_file_pred = \"data/simulate data/Case5/pred11_SpatialData.csv\"\n",
    "\n",
    "gene_expr_file = \"data/simulate data/Case5/sim_GeneExpressionData.csv\""
   ]
  },
  {
   "cell_type": "code",
   "execution_count": null,
   "metadata": {},
   "outputs": [
    {
     "name": "stdout",
     "output_type": "stream",
     "text": [
      "0.5827846387426179\n"
     ]
    }
   ],
   "source": [
    "SGD = main(coordinate_file_truth , \n",
    "        coordinate_file_pred , \n",
    "        gene_expr_file , \n",
    "        apply_gene_similarity = True , \n",
    "        apply_AD_weight = False , \n",
    "        is_subtying = False)\n",
    "\n",
    "print(SGD)"
   ]
  },
  {
   "cell_type": "code",
   "execution_count": 6,
   "metadata": {},
   "outputs": [
    {
     "name": "stdout",
     "output_type": "stream",
     "text": [
      "ARI:0.7697399119401651\n"
     ]
    }
   ],
   "source": [
    "truth_data = pd.read_csv(coordinate_file_truth)\n",
    "pred_data = pd.read_csv(coordinate_file_pred)\n",
    "\n",
    "ARI = adjusted_rand_score(truth_data['group'] , pred_data['group'])\n",
    "print(f\"ARI:{ARI}\")"
   ]
  },
  {
   "cell_type": "markdown",
   "metadata": {},
   "source": [
    "### 不相似"
   ]
  },
  {
   "cell_type": "code",
   "execution_count": 7,
   "metadata": {},
   "outputs": [],
   "source": [
    "coordinate_file_truth = \"data/simulate data/Case5/truth_dissim_SpatialData.csv\"\n",
    "coordinate_file_pred = \"data/simulate data/Case5/pred13_SpatialData.csv\"\n",
    "\n",
    "gene_expr_file = \"data/simulate data/Case5/dissim_GeneExpressionData.csv\""
   ]
  },
  {
   "cell_type": "code",
   "execution_count": null,
   "metadata": {},
   "outputs": [
    {
     "name": "stdout",
     "output_type": "stream",
     "text": [
      "0.5080184016709932\n"
     ]
    }
   ],
   "source": [
    "SGD = main(coordinate_file_truth , \n",
    "        coordinate_file_pred , \n",
    "        gene_expr_file , \n",
    "        apply_gene_similarity = True , \n",
    "        apply_AD_weight = False , \n",
    "        is_subtying = False)\n",
    "\n",
    "print(SGD)"
   ]
  },
  {
   "cell_type": "code",
   "execution_count": 8,
   "metadata": {},
   "outputs": [
    {
     "name": "stdout",
     "output_type": "stream",
     "text": [
      "ARI:0.7697399119401651\n"
     ]
    }
   ],
   "source": [
    "truth_data = pd.read_csv(coordinate_file_truth)\n",
    "pred_data = pd.read_csv(coordinate_file_pred)\n",
    "\n",
    "ARI = adjusted_rand_score(truth_data['group'] , pred_data['group'])\n",
    "print(f\"ARI:{ARI}\")"
   ]
  }
 ],
 "metadata": {
  "kernelspec": {
   "display_name": "Pytorch",
   "language": "python",
   "name": "python3"
  },
  "language_info": {
   "codemirror_mode": {
    "name": "ipython",
    "version": 3
   },
   "file_extension": ".py",
   "mimetype": "text/x-python",
   "name": "python",
   "nbconvert_exporter": "python",
   "pygments_lexer": "ipython3",
   "version": "3.11.7"
  }
 },
 "nbformat": 4,
 "nbformat_minor": 2
}
