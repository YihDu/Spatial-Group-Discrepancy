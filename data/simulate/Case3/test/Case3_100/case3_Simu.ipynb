{
 "cells": [
  {
   "cell_type": "code",
   "execution_count": 1,
   "metadata": {
    "vscode": {
     "languageId": "r"
    }
   },
   "outputs": [
    {
     "name": "stderr",
     "output_type": "stream",
     "text": [
      "Package 'mclust' version 6.0.1\n",
      "Type 'citation(\"mclust\")' for citing this R package in publications.\n",
      "\n"
     ]
    }
   ],
   "source": [
    "library(SRTsim)\n",
    "library(mclust)"
   ]
  },
  {
   "cell_type": "code",
   "execution_count": 2,
   "metadata": {
    "vscode": {
     "languageId": "r"
    }
   },
   "outputs": [],
   "source": [
    "library(cluster)\n",
    "library(infotheo)"
   ]
  },
  {
   "cell_type": "markdown",
   "metadata": {},
   "source": [
    "### Anomaly ratio=0.2"
   ]
  },
  {
   "cell_type": "code",
   "execution_count": 45,
   "metadata": {
    "vscode": {
     "languageId": "r"
    }
   },
   "outputs": [
    {
     "name": "stderr",
     "output_type": "stream",
     "text": [
      "\n",
      "Listening on http://127.0.0.1:4856\n",
      "\n"
     ]
    }
   ],
   "source": [
    "# Truth\n",
    "shinySRT1 <- SRTsim_shiny()\n",
    "simSRT1 <- Shiny2SRT(shinySRT1)"
   ]
  },
  {
   "cell_type": "code",
   "execution_count": 73,
   "metadata": {
    "vscode": {
     "languageId": "r"
    }
   },
   "outputs": [],
   "source": [
    "df = data.frame(shinySRT1[2])\n",
    "y = df$simInfo.group\n",
    "y = as.factor(y)\n",
    "y = as.numeric(y)"
   ]
  },
  {
   "cell_type": "code",
   "execution_count": 47,
   "metadata": {
    "vscode": {
     "languageId": "r"
    }
   },
   "outputs": [],
   "source": [
    "GeneExpressionData <- as.matrix(simSRT1@simCounts)\n",
    "write.csv(GeneExpressionData, \"/Users/dingyueyang/Desktop/Simulate/Case3/0.2_truth_GeneExpressionData.csv\")\n",
    "\n",
    "SpatialData <- as.data.frame(simSRT1@simcolData)\n",
    "write.csv(SpatialData, \"/Users/dingyueyang/Desktop/Simulate/Case3/0.2_truth_SpatialData.csv\")"
   ]
  },
  {
   "cell_type": "code",
   "execution_count": 48,
   "metadata": {
    "vscode": {
     "languageId": "r"
    }
   },
   "outputs": [
    {
     "name": "stderr",
     "output_type": "stream",
     "text": [
      "\n",
      "Listening on http://127.0.0.1:4856\n",
      "\n"
     ]
    }
   ],
   "source": [
    "# 0.2\n",
    "shinySRT2 <- SRTsim_shiny()\n",
    "simSRT2 <- Shiny2SRT(shinySRT2)"
   ]
  },
  {
   "cell_type": "code",
   "execution_count": 74,
   "metadata": {
    "vscode": {
     "languageId": "r"
    }
   },
   "outputs": [],
   "source": [
    "df = data.frame(shinySRT2[2])\n",
    "pred = df$simInfo.group\n",
    "pred = as.factor(pred)\n",
    "pred = as.numeric(pred)"
   ]
  },
  {
   "cell_type": "code",
   "execution_count": 75,
   "metadata": {
    "vscode": {
     "languageId": "r"
    }
   },
   "outputs": [
    {
     "name": "stdout",
     "output_type": "stream",
     "text": [
      "[1] 0.3971328\n"
     ]
    }
   ],
   "source": [
    "# ARI of edge error\n",
    "ari <- adjustedRandIndex(y, pred)\n",
    "print(ari)"
   ]
  },
  {
   "cell_type": "code",
   "execution_count": 76,
   "metadata": {
    "vscode": {
     "languageId": "r"
    }
   },
   "outputs": [
    {
     "name": "stdout",
     "output_type": "stream",
     "text": [
      "[1] \"NMI: 0.342933575299821\"\n"
     ]
    }
   ],
   "source": [
    "# 计算互信息\n",
    "mutual_info <- mutinformation(y, pred)\n",
    "\n",
    "# 计算熵\n",
    "entropy_true <- entropy(y)\n",
    "entropy_pred <- entropy(pred)\n",
    "\n",
    "# 计算NMI\n",
    "nmi_value <- 2 * mutual_info / (entropy_true + entropy_pred)\n",
    "print(paste(\"NMI:\", nmi_value))"
   ]
  },
  {
   "cell_type": "code",
   "execution_count": 51,
   "metadata": {
    "vscode": {
     "languageId": "r"
    }
   },
   "outputs": [],
   "source": [
    "GeneExpressionData <- as.matrix(simSRT2@simCounts)\n",
    "write.csv(GeneExpressionData, \"/Users/dingyueyang/Desktop/Simulate/Case3/0.2_GeneExpressionData.csv\")\n",
    "\n",
    "SpatialData <- as.data.frame(simSRT2@simcolData)\n",
    "write.csv(SpatialData, \"/Users/dingyueyang/Desktop/Simulate/Case3/0.2_SpatialData.csv\")"
   ]
  },
  {
   "cell_type": "markdown",
   "metadata": {},
   "source": [
    "### Anomaly ratio=0.4"
   ]
  },
  {
   "cell_type": "code",
   "execution_count": 19,
   "metadata": {
    "vscode": {
     "languageId": "r"
    }
   },
   "outputs": [
    {
     "name": "stderr",
     "output_type": "stream",
     "text": [
      "\n",
      "Listening on http://127.0.0.1:3549\n",
      "\n"
     ]
    }
   ],
   "source": [
    "# Truth\n",
    "shinySRT3 <- SRTsim_shiny()\n",
    "simSRT3 <- Shiny2SRT(shinySRT3)"
   ]
  },
  {
   "cell_type": "code",
   "execution_count": 20,
   "metadata": {
    "vscode": {
     "languageId": "r"
    }
   },
   "outputs": [],
   "source": [
    "df = data.frame(shinySRT3[2])\n",
    "y = df$simInfo.group\n",
    "y = as.factor(y)\n",
    "y = as.numeric(y)"
   ]
  },
  {
   "cell_type": "code",
   "execution_count": 21,
   "metadata": {
    "vscode": {
     "languageId": "r"
    }
   },
   "outputs": [],
   "source": [
    "GeneExpressionData <- as.matrix(simSRT3@simCounts)\n",
    "write.csv(GeneExpressionData, \"/Users/dingyueyang/Desktop/SGD-GB/Simulate/Case3_1000/0.1_truth_GeneExpressionData.csv\")\n",
    "\n",
    "SpatialData <- as.data.frame(simSRT3@simcolData)\n",
    "write.csv(SpatialData, \"/Users/dingyueyang/Desktop/SGD-GB/Simulate/Case3_1000/0.1_truth_SpatialData.csv\")"
   ]
  },
  {
   "cell_type": "code",
   "execution_count": 22,
   "metadata": {
    "vscode": {
     "languageId": "r"
    }
   },
   "outputs": [
    {
     "name": "stderr",
     "output_type": "stream",
     "text": [
      "\n",
      "Listening on http://127.0.0.1:3549\n",
      "\n"
     ]
    }
   ],
   "source": [
    "# 0.4\n",
    "shinySRT4 <- SRTsim_shiny()\n",
    "simSRT4 <- Shiny2SRT(shinySRT4)"
   ]
  },
  {
   "cell_type": "code",
   "execution_count": 23,
   "metadata": {
    "vscode": {
     "languageId": "r"
    }
   },
   "outputs": [],
   "source": [
    "df = data.frame(shinySRT4[2])\n",
    "pred = df$simInfo.group\n",
    "pred = as.factor(pred)\n",
    "pred = as.numeric(pred)"
   ]
  },
  {
   "cell_type": "code",
   "execution_count": 24,
   "metadata": {
    "vscode": {
     "languageId": "r"
    }
   },
   "outputs": [
    {
     "name": "stdout",
     "output_type": "stream",
     "text": [
      "[1] 0.9649784\n"
     ]
    }
   ],
   "source": [
    "# ARI of edge error\n",
    "ari <- adjustedRandIndex(y, pred)\n",
    "print(ari)"
   ]
  },
  {
   "cell_type": "code",
   "execution_count": 25,
   "metadata": {
    "vscode": {
     "languageId": "r"
    }
   },
   "outputs": [
    {
     "name": "stdout",
     "output_type": "stream",
     "text": [
      "[1] \"NMI: 0.919132345041275\"\n"
     ]
    }
   ],
   "source": [
    "# 计算互信息\n",
    "mutual_info <- mutinformation(y, pred)\n",
    "\n",
    "# 计算熵\n",
    "entropy_true <- entropy(y)\n",
    "entropy_pred <- entropy(pred)\n",
    "\n",
    "# 计算NMI\n",
    "nmi_value <- 2 * mutual_info / (entropy_true + entropy_pred)\n",
    "print(paste(\"NMI:\", nmi_value))"
   ]
  },
  {
   "cell_type": "code",
   "execution_count": 18,
   "metadata": {
    "vscode": {
     "languageId": "r"
    }
   },
   "outputs": [],
   "source": [
    "GeneExpressionData <- as.matrix(simSRT4@simCounts)\n",
    "write.csv(GeneExpressionData, \"/Users/dingyueyang/Desktop/SGD-GB/Simulate/Case3_1000/0.1_GeneExpressionData.csv\")\n",
    "\n",
    "SpatialData <- as.data.frame(simSRT4@simcolData)\n",
    "write.csv(SpatialData, \"/Users/dingyueyang/Desktop/SGD-GB/Simulate/Case3_1000/0.1_SpatialData.csv\")"
   ]
  },
  {
   "cell_type": "markdown",
   "metadata": {},
   "source": [
    "### Anomaly ratio=0.5"
   ]
  },
  {
   "cell_type": "code",
   "execution_count": 16,
   "metadata": {
    "vscode": {
     "languageId": "r"
    }
   },
   "outputs": [
    {
     "name": "stderr",
     "output_type": "stream",
     "text": [
      "\n",
      "Listening on http://127.0.0.1:4856\n",
      "\n"
     ]
    }
   ],
   "source": [
    "# Truth\n",
    "shinySRT5 <- SRTsim_shiny()\n",
    "simSRT5 <- Shiny2SRT(shinySRT5)"
   ]
  },
  {
   "cell_type": "code",
   "execution_count": 81,
   "metadata": {
    "vscode": {
     "languageId": "r"
    }
   },
   "outputs": [],
   "source": [
    "df = data.frame(shinySRT5[2])\n",
    "y = df$simInfo.group\n",
    "y = as.factor(y)\n",
    "y = as.numeric(y)"
   ]
  },
  {
   "cell_type": "code",
   "execution_count": 18,
   "metadata": {
    "vscode": {
     "languageId": "r"
    }
   },
   "outputs": [],
   "source": [
    "GeneExpressionData <- as.matrix(simSRT5@simCounts)\n",
    "write.csv(GeneExpressionData, \"/Users/dingyueyang/Desktop/Simulate/Case3/0.5_truth_GeneExpressionData.csv\")\n",
    "\n",
    "SpatialData <- as.data.frame(simSRT5@simcolData)\n",
    "write.csv(SpatialData, \"/Users/dingyueyang/Desktop/Simulate/Case3/0.5_truth_SpatialData.csv\")"
   ]
  },
  {
   "cell_type": "code",
   "execution_count": 19,
   "metadata": {
    "vscode": {
     "languageId": "r"
    }
   },
   "outputs": [
    {
     "name": "stderr",
     "output_type": "stream",
     "text": [
      "\n",
      "Listening on http://127.0.0.1:4856\n",
      "\n"
     ]
    }
   ],
   "source": [
    "# 0.5\n",
    "shinySRT6 <- SRTsim_shiny()\n",
    "simSRT6 <- Shiny2SRT(shinySRT6)"
   ]
  },
  {
   "cell_type": "code",
   "execution_count": 82,
   "metadata": {
    "vscode": {
     "languageId": "r"
    }
   },
   "outputs": [],
   "source": [
    "df = data.frame(shinySRT6[2])\n",
    "pred = df$simInfo.group\n",
    "pred = as.factor(pred)\n",
    "pred = as.numeric(pred)"
   ]
  },
  {
   "cell_type": "code",
   "execution_count": 83,
   "metadata": {
    "vscode": {
     "languageId": "r"
    }
   },
   "outputs": [
    {
     "name": "stdout",
     "output_type": "stream",
     "text": [
      "[1] 0.5458309\n"
     ]
    }
   ],
   "source": [
    "# ARI of edge error\n",
    "ari <- adjustedRandIndex(y, pred)\n",
    "print(ari)"
   ]
  },
  {
   "cell_type": "code",
   "execution_count": 84,
   "metadata": {
    "vscode": {
     "languageId": "r"
    }
   },
   "outputs": [
    {
     "name": "stdout",
     "output_type": "stream",
     "text": [
      "[1] \"NMI: 0.553574867691983\"\n"
     ]
    }
   ],
   "source": [
    "# 计算互信息\n",
    "mutual_info <- mutinformation(y, pred)\n",
    "\n",
    "# 计算熵\n",
    "entropy_true <- entropy(y)\n",
    "entropy_pred <- entropy(pred)\n",
    "\n",
    "# 计算NMI\n",
    "nmi_value <- 2 * mutual_info / (entropy_true + entropy_pred)\n",
    "print(paste(\"NMI:\", nmi_value))"
   ]
  },
  {
   "cell_type": "code",
   "execution_count": 22,
   "metadata": {
    "vscode": {
     "languageId": "r"
    }
   },
   "outputs": [],
   "source": [
    "GeneExpressionData <- as.matrix(simSRT6@simCounts)\n",
    "write.csv(GeneExpressionData, \"/Users/dingyueyang/Desktop/Simulate/Case3/0.5_GeneExpressionData.csv\")\n",
    "\n",
    "SpatialData <- as.data.frame(simSRT6@simcolData)\n",
    "write.csv(SpatialData, \"/Users/dingyueyang/Desktop/Simulate/Case3/0.5_SpatialData.csv\")"
   ]
  },
  {
   "cell_type": "markdown",
   "metadata": {},
   "source": [
    "### Anomaly ratio=0.6"
   ]
  },
  {
   "cell_type": "code",
   "execution_count": 23,
   "metadata": {
    "vscode": {
     "languageId": "r"
    }
   },
   "outputs": [
    {
     "name": "stderr",
     "output_type": "stream",
     "text": [
      "\n",
      "Listening on http://127.0.0.1:4856\n",
      "\n"
     ]
    }
   ],
   "source": [
    "# Truth\n",
    "shinySRT7 <- SRTsim_shiny()\n",
    "simSRT7 <- Shiny2SRT(shinySRT7)"
   ]
  },
  {
   "cell_type": "code",
   "execution_count": 85,
   "metadata": {
    "vscode": {
     "languageId": "r"
    }
   },
   "outputs": [],
   "source": [
    "df = data.frame(shinySRT7[2])\n",
    "y = df$simInfo.group\n",
    "y = as.factor(y)\n",
    "y = as.numeric(y)"
   ]
  },
  {
   "cell_type": "code",
   "execution_count": 25,
   "metadata": {
    "vscode": {
     "languageId": "r"
    }
   },
   "outputs": [],
   "source": [
    "GeneExpressionData <- as.matrix(simSRT7@simCounts)\n",
    "write.csv(GeneExpressionData, \"/Users/dingyueyang/Desktop/Simulate/Case3/0.6_truth_GeneExpressionData.csv\")\n",
    "\n",
    "SpatialData <- as.data.frame(simSRT7@simcolData)\n",
    "write.csv(SpatialData, \"/Users/dingyueyang/Desktop/Simulate/Case3/0.6_truth_SpatialData.csv\")"
   ]
  },
  {
   "cell_type": "code",
   "execution_count": 26,
   "metadata": {
    "vscode": {
     "languageId": "r"
    }
   },
   "outputs": [
    {
     "name": "stderr",
     "output_type": "stream",
     "text": [
      "\n",
      "Listening on http://127.0.0.1:4856\n",
      "\n"
     ]
    }
   ],
   "source": [
    "# 0.6\n",
    "shinySRT8 <- SRTsim_shiny()\n",
    "simSRT8 <- Shiny2SRT(shinySRT8)"
   ]
  },
  {
   "cell_type": "code",
   "execution_count": 86,
   "metadata": {
    "vscode": {
     "languageId": "r"
    }
   },
   "outputs": [],
   "source": [
    "df = data.frame(shinySRT8[2])\n",
    "pred = df$simInfo.group\n",
    "pred = as.factor(pred)\n",
    "pred = as.numeric(pred)"
   ]
  },
  {
   "cell_type": "code",
   "execution_count": 87,
   "metadata": {
    "vscode": {
     "languageId": "r"
    }
   },
   "outputs": [
    {
     "name": "stdout",
     "output_type": "stream",
     "text": [
      "[1] 0.5456951\n"
     ]
    }
   ],
   "source": [
    "# ARI of edge error\n",
    "ari <- adjustedRandIndex(y, pred)\n",
    "print(ari)"
   ]
  },
  {
   "cell_type": "code",
   "execution_count": 88,
   "metadata": {
    "vscode": {
     "languageId": "r"
    }
   },
   "outputs": [
    {
     "name": "stdout",
     "output_type": "stream",
     "text": [
      "[1] \"NMI: 0.555546648020196\"\n"
     ]
    }
   ],
   "source": [
    "# 计算互信息\n",
    "mutual_info <- mutinformation(y, pred)\n",
    "\n",
    "# 计算熵\n",
    "entropy_true <- entropy(y)\n",
    "entropy_pred <- entropy(pred)\n",
    "\n",
    "# 计算NMI\n",
    "nmi_value <- 2 * mutual_info / (entropy_true + entropy_pred)\n",
    "print(paste(\"NMI:\", nmi_value))"
   ]
  },
  {
   "cell_type": "code",
   "execution_count": 29,
   "metadata": {
    "vscode": {
     "languageId": "r"
    }
   },
   "outputs": [],
   "source": [
    "GeneExpressionData <- as.matrix(simSRT8@simCounts)\n",
    "write.csv(GeneExpressionData, \"/Users/dingyueyang/Desktop/Simulate/Case3/0.6_GeneExpressionData.csv\")\n",
    "\n",
    "SpatialData <- as.data.frame(simSRT8@simcolData)\n",
    "write.csv(SpatialData, \"/Users/dingyueyang/Desktop/Simulate/Case3/0.6_SpatialData.csv\")"
   ]
  },
  {
   "cell_type": "markdown",
   "metadata": {},
   "source": [
    "### Anomaly ratio=0.8"
   ]
  },
  {
   "cell_type": "code",
   "execution_count": 30,
   "metadata": {
    "vscode": {
     "languageId": "r"
    }
   },
   "outputs": [
    {
     "name": "stderr",
     "output_type": "stream",
     "text": [
      "\n",
      "Listening on http://127.0.0.1:4856\n",
      "\n"
     ]
    }
   ],
   "source": [
    "# Truth\n",
    "shinySRT9 <- SRTsim_shiny()\n",
    "simSRT9 <- Shiny2SRT(shinySRT9)"
   ]
  },
  {
   "cell_type": "code",
   "execution_count": 89,
   "metadata": {
    "vscode": {
     "languageId": "r"
    }
   },
   "outputs": [],
   "source": [
    "df = data.frame(shinySRT9[2])\n",
    "y = df$simInfo.group\n",
    "y = as.factor(y)\n",
    "y = as.numeric(y)"
   ]
  },
  {
   "cell_type": "code",
   "execution_count": 32,
   "metadata": {
    "vscode": {
     "languageId": "r"
    }
   },
   "outputs": [],
   "source": [
    "GeneExpressionData <- as.matrix(simSRT9@simCounts)\n",
    "write.csv(GeneExpressionData, \"/Users/dingyueyang/Desktop/Simulate/Case3/0.8_truth_GeneExpressionData.csv\")\n",
    "\n",
    "SpatialData <- as.data.frame(simSRT9@simcolData)\n",
    "write.csv(SpatialData, \"/Users/dingyueyang/Desktop/Simulate/Case3/0.8_truth_SpatialData.csv\")"
   ]
  },
  {
   "cell_type": "code",
   "execution_count": 33,
   "metadata": {
    "vscode": {
     "languageId": "r"
    }
   },
   "outputs": [
    {
     "name": "stderr",
     "output_type": "stream",
     "text": [
      "\n",
      "Listening on http://127.0.0.1:4856\n",
      "\n"
     ]
    }
   ],
   "source": [
    "# 0.8\n",
    "shinySRT10 <- SRTsim_shiny()\n",
    "simSRT10 <- Shiny2SRT(shinySRT10)"
   ]
  },
  {
   "cell_type": "code",
   "execution_count": 90,
   "metadata": {
    "vscode": {
     "languageId": "r"
    }
   },
   "outputs": [],
   "source": [
    "df = data.frame(shinySRT10[2])\n",
    "pred = df$simInfo.group\n",
    "pred = as.factor(pred)\n",
    "pred = as.numeric(pred)"
   ]
  },
  {
   "cell_type": "code",
   "execution_count": 91,
   "metadata": {
    "vscode": {
     "languageId": "r"
    }
   },
   "outputs": [
    {
     "name": "stdout",
     "output_type": "stream",
     "text": [
      "[1] 0.5292152\n"
     ]
    }
   ],
   "source": [
    "# ARI of edge error\n",
    "ari <- adjustedRandIndex(y, pred)\n",
    "print(ari)"
   ]
  },
  {
   "cell_type": "code",
   "execution_count": 92,
   "metadata": {
    "vscode": {
     "languageId": "r"
    }
   },
   "outputs": [
    {
     "name": "stdout",
     "output_type": "stream",
     "text": [
      "[1] \"NMI: 0.496718350217224\"\n"
     ]
    }
   ],
   "source": [
    "# 计算互信息\n",
    "mutual_info <- mutinformation(y, pred)\n",
    "\n",
    "# 计算熵\n",
    "entropy_true <- entropy(y)\n",
    "entropy_pred <- entropy(pred)\n",
    "\n",
    "# 计算NMI\n",
    "nmi_value <- 2 * mutual_info / (entropy_true + entropy_pred)\n",
    "print(paste(\"NMI:\", nmi_value))"
   ]
  },
  {
   "cell_type": "code",
   "execution_count": 36,
   "metadata": {
    "vscode": {
     "languageId": "r"
    }
   },
   "outputs": [],
   "source": [
    "GeneExpressionData <- as.matrix(simSRT10@simCounts)\n",
    "write.csv(GeneExpressionData, \"/Users/dingyueyang/Desktop/Simulate/Case3/0.8_GeneExpressionData.csv\")\n",
    "\n",
    "SpatialData <- as.data.frame(simSRT10@simcolData)\n",
    "write.csv(SpatialData, \"/Users/dingyueyang/Desktop/Simulate/Case3/0.8_SpatialData.csv\")"
   ]
  },
  {
   "cell_type": "code",
   "execution_count": 97,
   "metadata": {
    "vscode": {
     "languageId": "r"
    }
   },
   "outputs": [
    {
     "data": {
      "image/png": "[encoded data removed]",
      "text/plain": [
       "plot without title"
      ]
     },
     "metadata": {
      "image/png": {
       "height": 420,
       "width": 420
      }
     },
     "output_type": "display_data"
    }
   ],
   "source": [
    "# 加载ggplot2包\n",
    "library(ggplot2)\n",
    "\n",
    "# 创建一个包含五个点的数据\n",
    "x <- c(0.2, 0.4, 0.5, 0.6, 0.8)\n",
    "y <- c(0.3971328, 0.5426419, 0.5458309, 0.5456951, 0.5292152)\n",
    "\n",
    "# 创建数据框\n",
    "data <- data.frame(x = x, y = y)\n",
    "\n",
    "  # 创建第二组包含五个点的数据\n",
    "x2 <- c(0.2, 0.4, 0.5, 0.6, 0.8)\n",
    "y2 <- c(0.3429335, 0.5284596, 0.5535748, 0.5555466, 0.4967183)\n",
    "data2 <- data.frame(x = x2, y = y2)\n",
    "\n",
    "ggplot() +\n",
    "  geom_line(data = data, aes(x = x, y = y, color = \"ARI\")) +\n",
    "  # 添加第二条折线，并指定颜色和标签\n",
    "  geom_line(data = data2, aes(x = x, y = y, color = \"NMI\")) +\n",
    "  # 添加图例\n",
    "  scale_color_manual(values = c(\"ARI\" = \"red\", \"NMI\" = \"blue\")) +\n",
    "  labs(x = \"Ratio\", y = \"Metric\", title = \"Change\")\n",
    "\n"
   ]
  },
  {
   "cell_type": "code",
   "execution_count": 69,
   "metadata": {
    "vscode": {
     "languageId": "r"
    }
   },
   "outputs": [
    {
     "data": {
      "text/html": [
       "<style>\n",
       ".list-inline {list-style: none; margin:0; padding: 0}\n",
       ".list-inline>li {display: inline-block}\n",
       ".list-inline>li:not(:last-child)::after {content: \"\\00b7\"; padding: 0 .5ex}\n",
       "</style>\n",
       "<ol class=list-inline><li>'agnes'</li><li>'agriculture'</li><li>'animals'</li><li>'bannerplot'</li><li>'chorSub'</li><li>'clara'</li><li>'clusGap'</li><li>'clusplot'</li><li>'coef.hclust'</li><li>'coefHier'</li><li>'daisy'</li><li>'diana'</li><li>'ellipsoidPoints'</li><li>'ellipsoidhull'</li><li>'fanny'</li><li>'flower'</li><li>'lower.to.upper.tri.inds'</li><li>'maxSE'</li><li>'meanabsdev'</li><li>'medoids'</li><li>'mona'</li><li>'pam'</li><li>'plantTraits'</li><li>'pltree'</li><li>'pluton'</li><li>'predict.ellipsoid'</li><li>'ruspini'</li><li>'silhouette'</li><li>'sizeDiss'</li><li>'sortSilhouette'</li><li>'upper.to.lower.tri.inds'</li><li>'volume'</li><li>'votes.repub'</li><li>'xclara'</li></ol>\n"
      ],
      "text/latex": [
       "\\begin{enumerate*}\n",
       "\\item 'agnes'\n",
       "\\item 'agriculture'\n",
       "\\item 'animals'\n",
       "\\item 'bannerplot'\n",
       "\\item 'chorSub'\n",
       "\\item 'clara'\n",
       "\\item 'clusGap'\n",
       "\\item 'clusplot'\n",
       "\\item 'coef.hclust'\n",
       "\\item 'coefHier'\n",
       "\\item 'daisy'\n",
       "\\item 'diana'\n",
       "\\item 'ellipsoidPoints'\n",
       "\\item 'ellipsoidhull'\n",
       "\\item 'fanny'\n",
       "\\item 'flower'\n",
       "\\item 'lower.to.upper.tri.inds'\n",
       "\\item 'maxSE'\n",
       "\\item 'meanabsdev'\n",
       "\\item 'medoids'\n",
       "\\item 'mona'\n",
       "\\item 'pam'\n",
       "\\item 'plantTraits'\n",
       "\\item 'pltree'\n",
       "\\item 'pluton'\n",
       "\\item 'predict.ellipsoid'\n",
       "\\item 'ruspini'\n",
       "\\item 'silhouette'\n",
       "\\item 'sizeDiss'\n",
       "\\item 'sortSilhouette'\n",
       "\\item 'upper.to.lower.tri.inds'\n",
       "\\item 'volume'\n",
       "\\item 'votes.repub'\n",
       "\\item 'xclara'\n",
       "\\end{enumerate*}\n"
      ],
      "text/markdown": [
       "1. 'agnes'\n",
       "2. 'agriculture'\n",
       "3. 'animals'\n",
       "4. 'bannerplot'\n",
       "5. 'chorSub'\n",
       "6. 'clara'\n",
       "7. 'clusGap'\n",
       "8. 'clusplot'\n",
       "9. 'coef.hclust'\n",
       "10. 'coefHier'\n",
       "11. 'daisy'\n",
       "12. 'diana'\n",
       "13. 'ellipsoidPoints'\n",
       "14. 'ellipsoidhull'\n",
       "15. 'fanny'\n",
       "16. 'flower'\n",
       "17. 'lower.to.upper.tri.inds'\n",
       "18. 'maxSE'\n",
       "19. 'meanabsdev'\n",
       "20. 'medoids'\n",
       "21. 'mona'\n",
       "22. 'pam'\n",
       "23. 'plantTraits'\n",
       "24. 'pltree'\n",
       "25. 'pluton'\n",
       "26. 'predict.ellipsoid'\n",
       "27. 'ruspini'\n",
       "28. 'silhouette'\n",
       "29. 'sizeDiss'\n",
       "30. 'sortSilhouette'\n",
       "31. 'upper.to.lower.tri.inds'\n",
       "32. 'volume'\n",
       "33. 'votes.repub'\n",
       "34. 'xclara'\n",
       "\n",
       "\n"
      ],
      "text/plain": [
       " [1] \"agnes\"                   \"agriculture\"            \n",
       " [3] \"animals\"                 \"bannerplot\"             \n",
       " [5] \"chorSub\"                 \"clara\"                  \n",
       " [7] \"clusGap\"                 \"clusplot\"               \n",
       " [9] \"coef.hclust\"             \"coefHier\"               \n",
       "[11] \"daisy\"                   \"diana\"                  \n",
       "[13] \"ellipsoidPoints\"         \"ellipsoidhull\"          \n",
       "[15] \"fanny\"                   \"flower\"                 \n",
       "[17] \"lower.to.upper.tri.inds\" \"maxSE\"                  \n",
       "[19] \"meanabsdev\"              \"medoids\"                \n",
       "[21] \"mona\"                    \"pam\"                    \n",
       "[23] \"plantTraits\"             \"pltree\"                 \n",
       "[25] \"pluton\"                  \"predict.ellipsoid\"      \n",
       "[27] \"ruspini\"                 \"silhouette\"             \n",
       "[29] \"sizeDiss\"                \"sortSilhouette\"         \n",
       "[31] \"upper.to.lower.tri.inds\" \"volume\"                 \n",
       "[33] \"votes.repub\"             \"xclara\"                 "
      ]
     },
     "metadata": {},
     "output_type": "display_data"
    }
   ],
   "source": [
    "ls(\"package:cluster\")"
   ]
  },
  {
   "cell_type": "code",
   "execution_count": null,
   "metadata": {
    "vscode": {
     "languageId": "r"
    }
   },
   "outputs": [],
   "source": []
  }
 ],
 "metadata": {
  "kernelspec": {
   "display_name": "R",
   "language": "R",
   "name": "ir"
  },
  "language_info": {
   "codemirror_mode": "r",
   "file_extension": ".r",
   "mimetype": "text/x-r-source",
   "name": "R",
   "pygments_lexer": "r",
   "version": "4.2.2"
  }
 },
 "nbformat": 4,
 "nbformat_minor": 2
}
