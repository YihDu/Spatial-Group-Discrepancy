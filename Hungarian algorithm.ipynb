{
 "cells": [
  {
   "cell_type": "code",
   "execution_count": 6,
   "id": "7aa2255f-1470-4242-9885-5f96361ab767",
   "metadata": {},
   "outputs": [],
   "source": [
    "import numpy as np\n",
    "from scipy.optimize import linear_sum_assignment"
   ]
  },
  {
   "cell_type": "code",
   "execution_count": 7,
   "id": "20040c7e-6e90-40c3-9e84-90c27abcb051",
   "metadata": {},
   "outputs": [],
   "source": [
    "# Hungarian algorithm\n",
    "def match_labels(cost_matrix):\n",
    "    # 计算成本矩阵中所有元素的最大值\n",
    "    max_value = np.max(cost_matrix)\n",
    "    \n",
    "    # 通过最大值减去原成本矩阵中的每个元素，转化为最小化问题\n",
    "    transformed_cost_matrix = max_value - cost_matrix\n",
    "    \n",
    "    # 使用linear_sum_assignment从scipy库解决转化后的分配问题\n",
    "    row_ind, col_ind = linear_sum_assignment(transformed_cost_matrix)\n",
    "    \n",
    "    return row_ind, col_ind"
   ]
  },
  {
   "cell_type": "code",
   "execution_count": 8,
   "id": "14cf112f-7576-4cc5-b99c-93d9628a0dd9",
   "metadata": {},
   "outputs": [],
   "source": [
    "def weighted_cost_matrix(matrix):\n",
    "\n",
    "    total_sum = np.sum(matrix)  # Calculate the total sum of the matrix\n",
    "    rows, cols = matrix.shape  # Get the dimensions of the matrix\n",
    "    weighted_matrix = np.zeros_like(matrix, dtype=float)  # Initialize the weighted matrix\n",
    "    \n",
    "    for i in range(rows):\n",
    "        row_sum = np.sum(matrix[i, :])  # Sum of values in the current row\n",
    "        weight = total_sum / (rows * row_sum)  # Calculate the weight for the current row\n",
    "        weighted_matrix[i, :] = matrix[i, :] * weight  # Apply the weight to each element in the row\n",
    "    \n",
    "    return weighted_matrix"
   ]
  },
  {
   "cell_type": "code",
   "execution_count": 9,
   "id": "34db291f-8211-4db8-87f2-a23e3dee594c",
   "metadata": {},
   "outputs": [
    {
     "name": "stdout",
     "output_type": "stream",
     "text": [
      "聚类标签到真实标签的映射（聚类簇索引 -> 真实标签索引）: [(0, 1), (1, 0), (2, 2)]\n",
      "匹配的数量总和: 80\n"
     ]
    }
   ],
   "source": [
    "# 这是均衡的情况，可以发现和最开始的结果一样\n",
    "cost_matrix = np.array([\n",
    "    [10, 20, 30],\n",
    "    [10, 2, 3],\n",
    "    [20, 30, 50]])\n",
    "\n",
    "# 应用匹配标签的函数\n",
    "row_ind, col_ind = match_labels(cost_matrix)\n",
    "\n",
    "# 打印匹配结果\n",
    "print(\"聚类标签到真实标签的映射（聚类簇索引 -> 真实标签索引）:\", list(zip(row_ind, col_ind)))\n",
    "print(\"匹配的数量总和:\", cost_matrix[row_ind, col_ind].sum())"
   ]
  },
  {
   "cell_type": "code",
   "execution_count": 10,
   "id": "89d35bfe-4bbe-422b-9b62-2bd5de796ba0",
   "metadata": {},
   "outputs": [
    {
     "name": "stdout",
     "output_type": "stream",
     "text": [
      "聚类标签到真实标签的映射（聚类簇索引 -> 真实标签索引）: [(0, 2), (1, 0), (2, 1)]\n",
      "匹配的数量总和: 3040\n",
      "Fail\n"
     ]
    }
   ],
   "source": [
    "# 把真实类别0的样本数扩大10倍，匈牙利结果开始不同了\n",
    "cost_matrix = np.array([\n",
    "    [1000, 2000, 3000],\n",
    "    [10, 2, 3],\n",
    "    [20, 30, 50]])\n",
    "\n",
    "# 应用匹配标签的函数\n",
    "row_ind, col_ind = match_labels(cost_matrix)\n",
    "\n",
    "# 打印匹配结果\n",
    "print(\"聚类标签到真实标签的映射（聚类簇索引 -> 真实标签索引）:\", list(zip(row_ind, col_ind)))\n",
    "print(\"匹配的数量总和:\", cost_matrix[row_ind, col_ind].sum())\n",
    "print('Fail')"
   ]
  },
  {
   "cell_type": "code",
   "execution_count": 11,
   "id": "2b59a8a3-9046-4640-97c2-3549860f1590",
   "metadata": {},
   "outputs": [
    {
     "name": "stdout",
     "output_type": "stream",
     "text": [
      "聚类标签到真实标签的映射（聚类簇索引 -> 真实标签索引）: [(0, 1), (1, 0), (2, 2)]\n",
      "匹配的数量总和: 3057.5\n"
     ]
    }
   ],
   "source": [
    "cost_matrix = np.array([\n",
    "    [1000, 2000, 3000],\n",
    "    [10, 2, 3],\n",
    "    [20, 30, 50]])\n",
    "w_cost_matrix = weighted_cost_matrix(cost_matrix)\n",
    "\n",
    "# 应用匹配标签的函数\n",
    "row_ind, col_ind = match_labels(w_cost_matrix)\n",
    "\n",
    "# 打印匹配结果 # successful\n",
    "print(\"聚类标签到真实标签的映射（聚类簇索引 -> 真实标签索引）:\", list(zip(row_ind, col_ind)))\n",
    "print(\"匹配的数量总和:\", w_cost_matrix[row_ind, col_ind].sum())"
   ]
  },
  {
   "cell_type": "markdown",
   "id": "89d581f6",
   "metadata": {},
   "source": [
    "## Case:subtype_match "
   ]
  },
  {
   "cell_type": "code",
   "execution_count": 12,
   "id": "fc6422b4-9e97-4e87-8c9f-7145971117dc",
   "metadata": {},
   "outputs": [
    {
     "name": "stdout",
     "output_type": "stream",
     "text": [
      "     1    2   3\n",
      "A  100  120  90\n",
      "B   30   50  20\n",
      "C    2    3  11\n"
     ]
    }
   ],
   "source": [
    "import pandas as pd\n",
    "import numpy as np\n",
    "from sklearn.metrics import confusion_matrix\n",
    "\n",
    "truth_df = pd.read_csv(\"data/simulate/Subtype_match/truth_SpatialData.csv\")  \n",
    "pred_df = pd.read_csv(\"data/simulate/Subtype_match/pred_SpatialData.csv\")  \n",
    "\n",
    "\n",
    "mapping = {'A': '1', 'B': '2', 'C': '3'}\n",
    "pred_df['group_mapped'] = pred_df['group'].astype(str).map(mapping)\n",
    "\n",
    "\n",
    "aligned_df = truth_df.merge(pred_df[['Unnamed: 0', 'group_mapped']], on='Unnamed: 0', suffixes=('_truth', '_pred'))\n",
    "\n",
    "unique_groups_truth = np.sort(aligned_df['group'].unique())\n",
    "unique_groups_pred_mapped = np.sort(aligned_df['group_mapped'].unique())\n",
    "matrix = pd.DataFrame(0, index=unique_groups_truth, columns=unique_groups_pred_mapped)\n",
    "\n",
    "for index, row in aligned_df.iterrows():\n",
    "    truth_label = row['group']\n",
    "    pred_label_mapped = row['group_mapped']\n",
    "    matrix.loc[truth_label, pred_label_mapped] += 1\n",
    "\n",
    "print(matrix)\n"
   ]
  },
  {
   "cell_type": "code",
   "execution_count": 13,
   "id": "e2aeb56b",
   "metadata": {},
   "outputs": [],
   "source": [
    "cost_matrix = np.array([\n",
    "    [100, 120, 90],\n",
    "    [30, 50, 20],\n",
    "    [2, 3, 11]])"
   ]
  },
  {
   "cell_type": "code",
   "execution_count": 14,
   "id": "666e4d1a",
   "metadata": {},
   "outputs": [
    {
     "name": "stdout",
     "output_type": "stream",
     "text": [
      "聚类标签到真实标签的映射（聚类簇索引 -> 真实标签索引）: [(0, 1), (1, 0), (2, 2)]\n",
      "匹配的数量总和: 161\n",
      "Fail\n"
     ]
    }
   ],
   "source": [
    "# 应用匹配标签的函数\n",
    "row_ind, col_ind = match_labels(cost_matrix)\n",
    "\n",
    "# 打印匹配结果\n",
    "print(\"聚类标签到真实标签的映射（聚类簇索引 -> 真实标签索引）:\", list(zip(row_ind, col_ind)))\n",
    "print(\"匹配的数量总和:\", cost_matrix[row_ind, col_ind].sum())\n",
    "print('Fail')"
   ]
  },
  {
   "cell_type": "code",
   "execution_count": 17,
   "id": "804d93a3",
   "metadata": {},
   "outputs": [
    {
     "name": "stdout",
     "output_type": "stream",
     "text": [
      "聚类标签到真实标签的映射（聚类簇索引 -> 真实标签索引）: [(0, 0), (1, 1), (2, 2)]\n",
      "匹配的数量总和: 214.43145161290323\n"
     ]
    }
   ],
   "source": [
    "w_cost_matrix = weighted_cost_matrix(cost_matrix)\n",
    "\n",
    "# 应用匹配标签的函数\n",
    "row_ind, col_ind = match_labels(w_cost_matrix)\n",
    "\n",
    "# 打印匹配结果 # successful\n",
    "print(\"聚类标签到真实标签的映射（聚类簇索引 -> 真实标签索引）:\", list(zip(row_ind, col_ind)))\n",
    "print(\"匹配的数量总和:\", w_cost_matrix[row_ind, col_ind].sum())"
   ]
  },
  {
   "cell_type": "markdown",
   "id": "abbbfaca",
   "metadata": {},
   "source": [
    "## Case2.2"
   ]
  },
  {
   "cell_type": "code",
   "execution_count": 19,
   "id": "9db2d575",
   "metadata": {},
   "outputs": [
    {
     "name": "stdout",
     "output_type": "stream",
     "text": [
      "    1   2   3\n",
      "A  31   0   0\n",
      "B  12  19   0\n",
      "C   0   0  31\n"
     ]
    }
   ],
   "source": [
    "import pandas as pd\n",
    "import numpy as np\n",
    "from sklearn.metrics import confusion_matrix\n",
    "\n",
    "truth_df = pd.read_csv(\"data/simulate/Case2 (FN_FP)/Case2.2/Truth_SpatialData.csv\")  \n",
    "pred_df = pd.read_csv(\"data/simulate/Case2 (FN_FP)/Case2.2/BA_SpatialData.csv\")  \n",
    "\n",
    "\n",
    "mapping = {'A': '1', 'B': '2', 'C': '3'}\n",
    "pred_df['group_mapped'] = pred_df['group'].astype(str).map(mapping)\n",
    "\n",
    "\n",
    "aligned_df = truth_df.merge(pred_df[['Unnamed: 0', 'group_mapped']], on='Unnamed: 0', suffixes=('_truth', '_pred'))\n",
    "\n",
    "unique_groups_truth = np.sort(aligned_df['group'].unique())\n",
    "unique_groups_pred_mapped = np.sort(aligned_df['group_mapped'].unique())\n",
    "matrix = pd.DataFrame(0, index=unique_groups_truth, columns=unique_groups_pred_mapped)\n",
    "\n",
    "for index, row in aligned_df.iterrows():\n",
    "    truth_label = row['group']\n",
    "    pred_label_mapped = row['group_mapped']\n",
    "    matrix.loc[truth_label, pred_label_mapped] += 1\n",
    "\n",
    "print(matrix)"
   ]
  },
  {
   "cell_type": "code",
   "execution_count": 20,
   "id": "a87c7237",
   "metadata": {},
   "outputs": [],
   "source": [
    "cost_matrix = np.array([\n",
    "    [31, 0, 0],\n",
    "    [12, 19, 0],\n",
    "    [0, 0, 31]])"
   ]
  },
  {
   "cell_type": "code",
   "execution_count": 21,
   "id": "4b6a8b20",
   "metadata": {},
   "outputs": [
    {
     "name": "stdout",
     "output_type": "stream",
     "text": [
      "聚类标签到真实标签的映射（聚类簇索引 -> 真实标签索引）: [(0, 0), (1, 1), (2, 2)]\n",
      "匹配的数量总和: 81\n",
      "Fail\n"
     ]
    }
   ],
   "source": [
    "# 应用匹配标签的函数\n",
    "row_ind, col_ind = match_labels(cost_matrix)\n",
    "\n",
    "# 打印匹配结果\n",
    "print(\"聚类标签到真实标签的映射（聚类簇索引 -> 真实标签索引）:\", list(zip(row_ind, col_ind)))\n",
    "print(\"匹配的数量总和:\", cost_matrix[row_ind, col_ind].sum())\n",
    "print('Fail')"
   ]
  },
  {
   "cell_type": "code",
   "execution_count": 22,
   "id": "a25c5796",
   "metadata": {},
   "outputs": [
    {
     "name": "stdout",
     "output_type": "stream",
     "text": [
      "聚类标签到真实标签的映射（聚类簇索引 -> 真实标签索引）: [(0, 0), (1, 1), (2, 2)]\n",
      "匹配的数量总和: 81.0\n"
     ]
    }
   ],
   "source": [
    "w_cost_matrix = weighted_cost_matrix(cost_matrix)\n",
    "\n",
    "# 应用匹配标签的函数\n",
    "row_ind, col_ind = match_labels(w_cost_matrix)\n",
    "\n",
    "# 打印匹配结果 # successful\n",
    "print(\"聚类标签到真实标签的映射（聚类簇索引 -> 真实标签索引）:\", list(zip(row_ind, col_ind)))\n",
    "print(\"匹配的数量总和:\", w_cost_matrix[row_ind, col_ind].sum())"
   ]
  },
  {
   "cell_type": "markdown",
   "id": "33611c5b",
   "metadata": {},
   "source": [
    "## Case3.2"
   ]
  },
  {
   "cell_type": "code",
   "execution_count": null,
   "id": "ca0ca29c",
   "metadata": {},
   "outputs": [],
   "source": [
    "import pandas as pd\n",
    "import numpy as np\n",
    "from sklearn.metrics import confusion_matrix\n",
    "\n",
    "truth_df = pd.read_csv(\"data/simulate/Case2 (FN_FP)/Case2.2/Truth_SpatialData.csv\")  \n",
    "pred_df = pd.read_csv(\"data/simulate/Case2 (FN_FP)/Case2.2/BA_SpatialData.csv\")  \n",
    "\n",
    "\n",
    "mapping = {'A': '1', 'B': '2', 'C': '3'}\n",
    "pred_df['group_mapped'] = pred_df['group'].astype(str).map(mapping)\n",
    "\n",
    "\n",
    "aligned_df = truth_df.merge(pred_df[['Unnamed: 0', 'group_mapped']], on='Unnamed: 0', suffixes=('_truth', '_pred'))\n",
    "\n",
    "unique_groups_truth = np.sort(aligned_df['group'].unique())\n",
    "unique_groups_pred_mapped = np.sort(aligned_df['group_mapped'].unique())\n",
    "matrix = pd.DataFrame(0, index=unique_groups_truth, columns=unique_groups_pred_mapped)\n",
    "\n",
    "for index, row in aligned_df.iterrows():\n",
    "    truth_label = row['group']\n",
    "    pred_label_mapped = row['group_mapped']\n",
    "    matrix.loc[truth_label, pred_label_mapped] += 1\n",
    "\n",
    "print(matrix)"
   ]
  }
 ],
 "metadata": {
  "kernelspec": {
   "display_name": "Python 3 (ipykernel)",
   "language": "python",
   "name": "python3"
  },
  "language_info": {
   "codemirror_mode": {
    "name": "ipython",
    "version": 3
   },
   "file_extension": ".py",
   "mimetype": "text/x-python",
   "name": "python",
   "nbconvert_exporter": "python",
   "pygments_lexer": "ipython3",
   "version": "3.11.7"
  }
 },
 "nbformat": 4,
 "nbformat_minor": 5
}
